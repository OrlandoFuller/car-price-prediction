{
 "cells": [
  {
   "cell_type": "markdown",
   "id": "sustained-norman",
   "metadata": {},
   "source": [
    "# 2. Machine learning for regression"
   ]
  },
  {
   "cell_type": "markdown",
   "id": "honest-supervision",
   "metadata": {},
   "source": [
    "This chapter covers\n",
    "\n",
    "* Creating a car-price prediction project with a linear regression model\n",
    "* Doing an initial exploratory data analysis with Jupyter notebooks\n",
    "* Setting up a validation framework\n",
    "* Implementing the linear regression model from scratch\n",
    "* Performing simple feature engineering for the model\n",
    "* Keeping the model under control with regularization\n",
    "* Using the model to predict car prices\n",
    "\n",
    "In chapter 1, we talked about supervised machine learning, in which we teach machine\n",
    "learning models how to identify patterns in data by giving them examples.\n",
    "\n",
    "\n",
    "Suppose that we have a dataset with descriptions of cars, like make, model, and age, and\n",
    "we would like to use machine learning to predict their prices. These characteristics of cars are\n",
    "called features, and the price is the target variable - something we want to predict. Then the\n",
    "model gets the features and combines them to output the price.\n",
    "\n",
    "\n",
    "This is an example of supervised learning: we have some information about the price of\n",
    "some cars, and we can use it to predict the price of others. In chapter 1, we also talked about\n",
    "different types of supervised learning: regression and classification. When the target variable\n",
    "is numerical, we have a regression problem, and when the target variable is categorical, we\n",
    "have a classification problem.\n",
    "\n",
    "\n",
    "In this chapter, we will create a regression model, and we will start with the simplest one:\n",
    "linear regression. We will implement the algorithms ourselves, which is simple enough to do in\n",
    "a few lines of code. At the same time, it’s very illustrative, and it will teach you how to deal\n",
    "with NumPy arrays and perform basic matrix operations such as matrix multiplication and matrix inversion. We will also come across problems of numerical instability when inverting a\n",
    "matrix and see how regularization helps solve them. \n",
    "\n",
    "\n",
    "## 2.1 Car-price prediction project\n",
    "\n",
    "\n",
    "The problem we will solve in this chapter is predicting the price of a car.\n",
    "\n",
    "\n",
    "Suppose that we have a website where people can sell and buy used cars. When posting\n",
    "an ad on our website, the sellers often struggle to come up with a meaningful price. We want\n",
    "to help our users with automatic price recommendation. We ask the sellers to specify model,\n",
    "make, year, mileage, and other important characteristics of a car, and based on that\n",
    "information, we want to suggest the best price.\n",
    "\n",
    "\n",
    "One of the product managers in the company accidentally came across an open dataset\n",
    "with car prices and asked us to have a look at it. We checked the data and saw that it contains\n",
    "all the important features as well as the recommended price — exactly what we need for our\n",
    "use case. Thus, we decided to use this dataset for building the price recommendation\n",
    "algorithm.\n",
    "\n",
    "\n",
    "The plan for the project is the following:\n",
    "\n",
    "\n",
    "1. First, we download the dataset.\n",
    "\n",
    "2. Next, we do some preliminary analysis of the data.\n",
    "\n",
    "3. After that, we set up a validation strategy to make sure our model produces correct\n",
    "predictions.\n",
    "\n",
    "4. Then we implement a linear regression model in Python and NumPy.\n",
    "\n",
    "5. Next, we cover feature engineering - to extract important features from the data to\n",
    "improve the model\n",
    "\n",
    "6. Finally, we see how to make our model stable with regularization and use it to predict\n",
    "car prices. \n",
    "\n",
    "### 2.1.1 Downloading the dataset\n",
    "\n",
    "\n",
    "The first thing we do for this project is to install all the required libraries: Python, NumPy,\n",
    "Pandas, and Jupyter notebook. The easiest way to do it is to use a Python distribution called\n",
    "Anaconda (https://www.anaconda.com). Please refer to appendix A for installation guidelines.\n",
    "\n",
    "\n",
    "After the libraries are installed, we need to download the dataset. There are multiple\n",
    "options for doing this. You can download it manually through the kaggle web interface. It’s\n",
    "available at https://www.kaggle.com/CooperUnion/cardataset.\n",
    "\n",
    "Go there, open it, and click\n",
    "the download link. The other option is using the kaggle command-line interface (CLI), which is\n",
    "a tool for programmatic access to all datasets available via kaggle. For this chapter, we will\n",
    "use the second option. We describe how to configure the kaggle CLI in appendix A. \n",
    "\n",
    "\n",
    "**NOTE: Kaggle is an online community for people who are interested in machine learning. It is mostly known\n",
    "for hosting machine learning competitions, but it is also a data sharing platform where anyone can share a\n",
    "dataset. More than 16,000 datasets are available for anyone to use. It is a great source of project ideas and\n",
    "very useful for machine learning projects.**\n",
    "\n",
    "In this chapter as well as throughout the book, we will actively use NumPy. We cover all\n",
    "necessary NumPy operations as we go along, but please refer to appendix C for a more indepth introduction.\n",
    "\n",
    "\n",
    "The source code for this project is available in the book’s repository in github at\n",
    "https://github.com/alexeygrigorev/mlbookcamp-code in chapter-02-car-price.\n",
    "\n",
    "\n",
    "As the first step, we will create a folder for this project. We can give it any name, such as\n",
    "chapter-02-car-price:"
   ]
  },
  {
   "cell_type": "raw",
   "id": "jewish-space",
   "metadata": {},
   "source": [
    "mkdir chapter-02-car-price\n",
    "cd chapter-02-car-price "
   ]
  },
  {
   "cell_type": "markdown",
   "id": "fewer-adobe",
   "metadata": {},
   "source": [
    "Then we download the dataset:"
   ]
  },
  {
   "cell_type": "raw",
   "id": "authentic-barcelona",
   "metadata": {},
   "source": [
    "kaggle datasets download -d CooperUnion/cardataset"
   ]
  },
  {
   "cell_type": "markdown",
   "id": "attended-paraguay",
   "metadata": {},
   "source": [
    "This command downloads the cardataset.zip file, which is a zip archive. Let’s unpack it:"
   ]
  },
  {
   "cell_type": "raw",
   "id": "aging-perry",
   "metadata": {},
   "source": [
    "unzip cardataset.zip "
   ]
  },
  {
   "cell_type": "markdown",
   "id": "higher-problem",
   "metadata": {},
   "source": [
    "Inside, there’s one file: data.csv.\n",
    "\n",
    "When we have the dataset, let’s do the next step: understanding it. \n",
    "\n",
    "## 2.2 Exploratory data analysis\n",
    "\n",
    "\n",
    "Understanding data is an important step in the machine learning process. Before we can train\n",
    "any model, we need to know what kind of data we have and whether it is useful. We do this\n",
    "with exploratory data analysis (EDA).\n",
    "\n",
    "\n",
    "We look at the dataset to learn:\n",
    "\n",
    "* The distribution of the target variable\n",
    "* The features in this dataset\n",
    "* The distribution of values in these features\n",
    "* The quality of the data\n",
    "* The number of missing values\n",
    "\n",
    "### 2.2.1 Exploratory data analysis toolbox\n",
    "\n",
    "\n",
    "The main tools for this analysis are Jupyter notebook, Matplotlib and Pandas:\n",
    "    \n",
    "* Jupyter notebook is a tool for interactive execution of Python code. It allows to execute\n",
    "a piece of code and immediately see the outcome. In addition to that we can display\n",
    "charts and add notes with comments in free text. It also supports other languages such\n",
    "as R or Julia (hence the name: Jupyter stands for Julia, Python, R), but we will only use\n",
    "it for Python.\n",
    "\n",
    "* Matplotlib is a library for plotting. It is very powerful and allows you to create different\n",
    "types of visualizations, such as line chars, bar charts, histograms and many more.\n",
    "\n",
    "* Pandas is a library for working with tabular data. It can read data from any source, be\n",
    "it a csv file, a json file or a database.\n",
    "We will also use Seaborn, another tool for plotting that is built on top of Matplotlib and makes\n",
    "it easier to draw charts.\n",
    "Let’s start a Jupyter notebook by executing the following command:\n",
    "\n"
   ]
  },
  {
   "cell_type": "raw",
   "id": "wooden-samoa",
   "metadata": {},
   "source": [
    "jupyter notebook "
   ]
  },
  {
   "cell_type": "markdown",
   "id": "welcome-exhibition",
   "metadata": {},
   "source": [
    "**This command starts a Jupyter notebook server in the current directory and opens it in the\n",
    "default web browser (figure 2.1).**\n",
    "\n",
    "If Jupyter is running on a remote server, it requires additional configuration. Please refer to\n",
    "appendix A for details on the setup.\n",
    "\n",
    "\n",
    "Now let’s create a notebook for this project. Click New, then select Python 3 in the\n",
    "Notebooks section. We can call it chapter-02-car-price-project - click the current title\n",
    "(Untitled), and replace it with the new one.\n",
    "\n",
    "\n",
    "First, we need to import all the libraries required for this project. Write the following in the\n",
    "first cell: "
   ]
  },
  {
   "cell_type": "code",
   "execution_count": 1,
   "id": "colonial-snowboard",
   "metadata": {},
   "outputs": [],
   "source": [
    "# Import NumPy: a library for numerical operations\n",
    "import pandas as pd # A\n",
    "\n",
    "#  Import Pandas: a library for tabular data\n",
    "import numpy as np #B\n",
    "\n",
    "# Import plotting libraries: matplotlib and seaborn\n",
    "import seaborn as sns # C\n",
    "from matplotlib import pyplot as plt # C\n",
    "\n",
    "# Make sure that plots are rendered correctly in jupyter notebooks. \n",
    "# D\n",
    "%matplotlib inline"
   ]
  },
  {
   "cell_type": "markdown",
   "id": "continued-quantity",
   "metadata": {},
   "source": [
    "The first two lines, A and B, are imports for required libraries: NumPy for numeric operations\n",
    "and Pandas for tabular data. The convention is to import these libraries using shorter aliases\n",
    "(such as pd in import pandas as pd). This convention is very common in the Python machine\n",
    "learning community, and everybody follows it.\n",
    "\n",
    "\n",
    "The next two lines, C, are imports for plotting libraries. The first one, matplotlib, is a\n",
    "library for creating good-quality visualizations. It’s not always easy to use this library as is.\n",
    "Some libraries make using Matplotlib simpler, and Seaborn is one of them.\n",
    "\n",
    "\n",
    "Finally, %matplotlib inline in D tells Jupyter to expect plots in the notebook, so it will be\n",
    "able to render them when we need them.\n",
    "\n",
    "\n",
    "Press Shift+Enter or click Run to execute the content of the selected cell.\n",
    "We will not get into more detail about Jupyter notebooks. Check the official website2 to\n",
    "learn more about it. The site has plenty of documentation and examples that will help you\n",
    "master it.\n",
    "\n",
    "\n",
    "### 2.2.2 Reading and preparing data\n",
    "\n",
    "\n",
    "Now let’s read our dataset. We can use the read_csv function from Pandas for that purpose.\n",
    "Put the following code in the next cell and again press Shift+Enter: "
   ]
  },
  {
   "cell_type": "code",
   "execution_count": 2,
   "id": "apparent-heaven",
   "metadata": {},
   "outputs": [],
   "source": [
    "df = pd.read_csv('dataset/data.csv')"
   ]
  },
  {
   "cell_type": "markdown",
   "id": "urban-hormone",
   "metadata": {},
   "source": [
    "This line of code reads the csv file and writes the results to a variable named df, which is\n",
    "short for dataframe. Now we can check how many rows are there. Let’s use the len function: "
   ]
  },
  {
   "cell_type": "code",
   "execution_count": 3,
   "id": "computational-explanation",
   "metadata": {},
   "outputs": [
    {
     "data": {
      "text/plain": [
       "11914"
      ]
     },
     "execution_count": 3,
     "metadata": {},
     "output_type": "execute_result"
    }
   ],
   "source": [
    "len(df) "
   ]
  },
  {
   "cell_type": "markdown",
   "id": "mysterious-comedy",
   "metadata": {},
   "source": [
    "The function prints 11914, which means that there are almost 12,000 cars in this dataset\n",
    "(figure 2.2). "
   ]
  },
  {
   "cell_type": "markdown",
   "id": "executive-reservoir",
   "metadata": {},
   "source": [
    "**Figure 2.2. Jupyter notebooks are interactive. We can type some code in a cell, execute it, and see the results\n",
    "immediately, which is ideal for exploratory data analysis**"
   ]
  },
  {
   "cell_type": "code",
   "execution_count": 4,
   "id": "chubby-architect",
   "metadata": {},
   "outputs": [
    {
     "data": {
      "text/html": [
       "<div>\n",
       "<style scoped>\n",
       "    .dataframe tbody tr th:only-of-type {\n",
       "        vertical-align: middle;\n",
       "    }\n",
       "\n",
       "    .dataframe tbody tr th {\n",
       "        vertical-align: top;\n",
       "    }\n",
       "\n",
       "    .dataframe thead th {\n",
       "        text-align: right;\n",
       "    }\n",
       "</style>\n",
       "<table border=\"1\" class=\"dataframe\">\n",
       "  <thead>\n",
       "    <tr style=\"text-align: right;\">\n",
       "      <th></th>\n",
       "      <th>Make</th>\n",
       "      <th>Model</th>\n",
       "      <th>Year</th>\n",
       "      <th>Engine Fuel Type</th>\n",
       "      <th>Engine HP</th>\n",
       "      <th>Engine Cylinders</th>\n",
       "      <th>Transmission Type</th>\n",
       "      <th>Driven_Wheels</th>\n",
       "      <th>Number of Doors</th>\n",
       "      <th>Market Category</th>\n",
       "      <th>Vehicle Size</th>\n",
       "      <th>Vehicle Style</th>\n",
       "      <th>highway MPG</th>\n",
       "      <th>city mpg</th>\n",
       "      <th>Popularity</th>\n",
       "      <th>MSRP</th>\n",
       "    </tr>\n",
       "  </thead>\n",
       "  <tbody>\n",
       "    <tr>\n",
       "      <th>0</th>\n",
       "      <td>BMW</td>\n",
       "      <td>1 Series M</td>\n",
       "      <td>2011</td>\n",
       "      <td>premium unleaded (required)</td>\n",
       "      <td>335.0</td>\n",
       "      <td>6.0</td>\n",
       "      <td>MANUAL</td>\n",
       "      <td>rear wheel drive</td>\n",
       "      <td>2.0</td>\n",
       "      <td>Factory Tuner,Luxury,High-Performance</td>\n",
       "      <td>Compact</td>\n",
       "      <td>Coupe</td>\n",
       "      <td>26</td>\n",
       "      <td>19</td>\n",
       "      <td>3916</td>\n",
       "      <td>46135</td>\n",
       "    </tr>\n",
       "    <tr>\n",
       "      <th>1</th>\n",
       "      <td>BMW</td>\n",
       "      <td>1 Series</td>\n",
       "      <td>2011</td>\n",
       "      <td>premium unleaded (required)</td>\n",
       "      <td>300.0</td>\n",
       "      <td>6.0</td>\n",
       "      <td>MANUAL</td>\n",
       "      <td>rear wheel drive</td>\n",
       "      <td>2.0</td>\n",
       "      <td>Luxury,Performance</td>\n",
       "      <td>Compact</td>\n",
       "      <td>Convertible</td>\n",
       "      <td>28</td>\n",
       "      <td>19</td>\n",
       "      <td>3916</td>\n",
       "      <td>40650</td>\n",
       "    </tr>\n",
       "  </tbody>\n",
       "</table>\n",
       "</div>"
      ],
      "text/plain": [
       "  Make       Model  Year             Engine Fuel Type  Engine HP  \\\n",
       "0  BMW  1 Series M  2011  premium unleaded (required)      335.0   \n",
       "1  BMW    1 Series  2011  premium unleaded (required)      300.0   \n",
       "\n",
       "   Engine Cylinders Transmission Type     Driven_Wheels  Number of Doors  \\\n",
       "0               6.0            MANUAL  rear wheel drive              2.0   \n",
       "1               6.0            MANUAL  rear wheel drive              2.0   \n",
       "\n",
       "                         Market Category Vehicle Size Vehicle Style  \\\n",
       "0  Factory Tuner,Luxury,High-Performance      Compact         Coupe   \n",
       "1                     Luxury,Performance      Compact   Convertible   \n",
       "\n",
       "   highway MPG  city mpg  Popularity   MSRP  \n",
       "0           26        19        3916  46135  \n",
       "1           28        19        3916  40650  "
      ]
     },
     "execution_count": 4,
     "metadata": {},
     "output_type": "execute_result"
    }
   ],
   "source": [
    "df.head(2)"
   ]
  },
  {
   "cell_type": "markdown",
   "id": "qualified-niagara",
   "metadata": {},
   "source": [
    "**Figure 2.3 The output of the head() function of a Pandas dataframe: it shows the first five rows of the dataset.\n",
    "This output allows us to understand what the data looks like.**\n",
    "\n",
    "This gives us an idea of what the data looks like. We can already see that there are some\n",
    "inconsistencies in this dataset: the column names sometimes have spaces and sometimes\n",
    "have underscores (_). The same is true for feature values: sometimes they’re capitalized and\n",
    "sometimes they are short strings with spaces. This is inconvenient and confusing, but we can\n",
    "solve this by normalizing them: replace all spaces with underscores and lowercase all letters:\n"
   ]
  },
  {
   "cell_type": "code",
   "execution_count": 5,
   "id": "employed-occurrence",
   "metadata": {},
   "outputs": [],
   "source": [
    "#  Lowercase all the column names, and replace spaces with underscores\n",
    "df.columns = df.columns.str.lower().str.replace(' ','_') # A\n",
    "\n",
    "# Select only columns with string values. \n",
    "string_columns = list(df.dtypes[df.dtypes == 'object'].index) # B\n",
    "\n",
    "# Lowercase and replace spaces with underscores for values in all string columns of the dataframe. \n",
    "for col in string_columns:\n",
    "    df[col] = df[col].str.lower().str.replace(' ','_') # C"
   ]
  },
  {
   "cell_type": "markdown",
   "id": "extraordinary-mexico",
   "metadata": {},
   "source": [
    "In A and C, we use the special str attribute. Using it, we can apply string operations to the\n",
    "entire column at that same time without writing any for loops. We use it to lowercase the\n",
    "column names and the content of these columns as well as to replace spaces with\n",
    "underscores.\n",
    "We can use this attribute only for columns with string values inside. This is exactly why we\n",
    "first select such columns in B.\n",
    "\n",
    "**NOTE: In this chapter and subsequent chapters, we cover relevant Pandas operations as we go along, but at\n",
    "a fairly high level. Please refer to appendix D for a more consistent and in-depth introduction to Pandas.**\n",
    "\n",
    "After this initial preprocessing, the dataframe looks more uniform (figure 2.4). "
   ]
  },
  {
   "cell_type": "code",
   "execution_count": 6,
   "id": "protecting-processing",
   "metadata": {},
   "outputs": [
    {
     "data": {
      "text/html": [
       "<div>\n",
       "<style scoped>\n",
       "    .dataframe tbody tr th:only-of-type {\n",
       "        vertical-align: middle;\n",
       "    }\n",
       "\n",
       "    .dataframe tbody tr th {\n",
       "        vertical-align: top;\n",
       "    }\n",
       "\n",
       "    .dataframe thead th {\n",
       "        text-align: right;\n",
       "    }\n",
       "</style>\n",
       "<table border=\"1\" class=\"dataframe\">\n",
       "  <thead>\n",
       "    <tr style=\"text-align: right;\">\n",
       "      <th></th>\n",
       "      <th>make</th>\n",
       "      <th>model</th>\n",
       "      <th>year</th>\n",
       "      <th>engine_fuel_type</th>\n",
       "      <th>engine_hp</th>\n",
       "      <th>engine_cylinders</th>\n",
       "      <th>transmission_type</th>\n",
       "      <th>driven_wheels</th>\n",
       "      <th>number_of_doors</th>\n",
       "      <th>market_category</th>\n",
       "      <th>vehicle_size</th>\n",
       "      <th>vehicle_style</th>\n",
       "      <th>highway_mpg</th>\n",
       "      <th>city_mpg</th>\n",
       "      <th>popularity</th>\n",
       "      <th>msrp</th>\n",
       "    </tr>\n",
       "  </thead>\n",
       "  <tbody>\n",
       "    <tr>\n",
       "      <th>0</th>\n",
       "      <td>bmw</td>\n",
       "      <td>1_series_m</td>\n",
       "      <td>2011</td>\n",
       "      <td>premium_unleaded_(required)</td>\n",
       "      <td>335.0</td>\n",
       "      <td>6.0</td>\n",
       "      <td>manual</td>\n",
       "      <td>rear_wheel_drive</td>\n",
       "      <td>2.0</td>\n",
       "      <td>factory_tuner,luxury,high-performance</td>\n",
       "      <td>compact</td>\n",
       "      <td>coupe</td>\n",
       "      <td>26</td>\n",
       "      <td>19</td>\n",
       "      <td>3916</td>\n",
       "      <td>46135</td>\n",
       "    </tr>\n",
       "    <tr>\n",
       "      <th>1</th>\n",
       "      <td>bmw</td>\n",
       "      <td>1_series</td>\n",
       "      <td>2011</td>\n",
       "      <td>premium_unleaded_(required)</td>\n",
       "      <td>300.0</td>\n",
       "      <td>6.0</td>\n",
       "      <td>manual</td>\n",
       "      <td>rear_wheel_drive</td>\n",
       "      <td>2.0</td>\n",
       "      <td>luxury,performance</td>\n",
       "      <td>compact</td>\n",
       "      <td>convertible</td>\n",
       "      <td>28</td>\n",
       "      <td>19</td>\n",
       "      <td>3916</td>\n",
       "      <td>40650</td>\n",
       "    </tr>\n",
       "  </tbody>\n",
       "</table>\n",
       "</div>"
      ],
      "text/plain": [
       "  make       model  year             engine_fuel_type  engine_hp  \\\n",
       "0  bmw  1_series_m  2011  premium_unleaded_(required)      335.0   \n",
       "1  bmw    1_series  2011  premium_unleaded_(required)      300.0   \n",
       "\n",
       "   engine_cylinders transmission_type     driven_wheels  number_of_doors  \\\n",
       "0               6.0            manual  rear_wheel_drive              2.0   \n",
       "1               6.0            manual  rear_wheel_drive              2.0   \n",
       "\n",
       "                         market_category vehicle_size vehicle_style  \\\n",
       "0  factory_tuner,luxury,high-performance      compact         coupe   \n",
       "1                     luxury,performance      compact   convertible   \n",
       "\n",
       "   highway_mpg  city_mpg  popularity   msrp  \n",
       "0           26        19        3916  46135  \n",
       "1           28        19        3916  40650  "
      ]
     },
     "execution_count": 6,
     "metadata": {},
     "output_type": "execute_result"
    }
   ],
   "source": [
    "df.head(2)"
   ]
  },
  {
   "cell_type": "markdown",
   "id": "latin-columbus",
   "metadata": {},
   "source": [
    "**Figure 2.4: The result of preprocessing the data. The column names and values are normalized: they are\n",
    "lowercased, and the spaces are converted to underscores.**"
   ]
  },
  {
   "cell_type": "markdown",
   "id": "solar-seafood",
   "metadata": {},
   "source": [
    "As we see, this dataset contains multiple columns:\n",
    "* make — make of a car (BMW, Toyota, and so on)\n",
    "* model — model of a car\n",
    "* year — year when the car was manufactured\n",
    "* engine_fuel_type — type of fuel the engine needs (diesel, electric, and so on)\n",
    "* engine_hp — horsepower of the engine\n",
    "* engine_cylinders — number of cylinders in the engine\n",
    "* transmission_type — type of transmission (automatic or manual)\n",
    "* driven_wheels — front, rear, all\n",
    "* number_of_doors — number of doors a car has\n",
    "* market_category — luxury, crossover, and so on\n",
    "* vehicle_size — compact, midsize, or large\n",
    "* vehicle_style — sedan or convertible \n",
    "* highway_mpg — miles per gallon (mpg) on the highway\n",
    "* city_mpg — miles per gallon in the city\n",
    "* popularity — number of times the car was mentioned in a Twitter stream\n",
    "* msrp — manufacturer’s suggested retail price\n",
    "\n",
    "For us, the most interesting column here is the last one: MSRP (manufacturer’s suggested\n",
    "retail price, or simply the price of a car). We will use this column for predicting the prices of a\n",
    "car.\n",
    "\n",
    "\n",
    "### 2.2.3 Target variable analysis\n",
    "\n",
    "\n",
    "The MSRP column contain the important information — it’s our target variable, the y, which is\n",
    "the value that we want to learn to predict.\n",
    "\n",
    "\n",
    "One of the first steps of exploratory data analysis should always be to look at what the\n",
    "values of y look like. We typically do this by checking the distribution of y: a visual description\n",
    "of what the possible values of y can be and how often they occur. This type of visualization is\n",
    "called a histogram.\n",
    "\n",
    "\n",
    "We will use Seaborn to plot the histogram, so type the following in the Jupyter notebook: "
   ]
  },
  {
   "cell_type": "code",
   "execution_count": 7,
   "id": "champion-entry",
   "metadata": {},
   "outputs": [
    {
     "name": "stderr",
     "output_type": "stream",
     "text": [
      "C:\\Users\\bizof\\Anaconda3\\envs\\pyvizenv\\lib\\site-packages\\seaborn\\distributions.py:2551: FutureWarning: `distplot` is a deprecated function and will be removed in a future version. Please adapt your code to use either `displot` (a figure-level function with similar flexibility) or `histplot` (an axes-level function for histograms).\n",
      "  warnings.warn(msg, FutureWarning)\n"
     ]
    },
    {
     "data": {
      "text/plain": [
       "<AxesSubplot:xlabel='msrp'>"
      ]
     },
     "execution_count": 7,
     "metadata": {},
     "output_type": "execute_result"
    },
    {
     "data": {
      "image/png": "[encoded data removed]",
      "text/plain": [
       "<Figure size 432x288 with 1 Axes>"
      ]
     },
     "metadata": {
      "needs_background": "light"
     },
     "output_type": "display_data"
    }
   ],
   "source": [
    "sns.distplot(df.msrp, kde=False) \n",
    "# sns.displot(df.msrp, kde=False) \n",
    "# sns.histplot(df.msrp, kde=False)"
   ]
  },
  {
   "cell_type": "markdown",
   "id": "complicated-contrary",
   "metadata": {},
   "source": [
    "After plotting this graph, we immediately notice that the distribution of prices has a very long\n",
    "tail. There are many cars with low prices on the left side, but the number quickly drops, and\n",
    "there’s a long tail of very few cars with high prices (see figure 2.5). \n",
    "\n",
    "**Figure 2.5 The distribution of the prices in the dataset. We see many values at the low end of the price axis and\n",
    "almost nothing at the high end. This is a long tail distribution, which is a typical situation for prices. There are\n",
    "many items with low prices and very few expensive ones.**\n",
    "\n",
    "We can have a closer look by zooming in a bit and looking at values below $100,000 (figure\n",
    "2.6): "
   ]
  },
  {
   "cell_type": "code",
   "execution_count": 8,
   "id": "collectible-warning",
   "metadata": {},
   "outputs": [
    {
     "data": {
      "text/plain": [
       "<AxesSubplot:xlabel='msrp'>"
      ]
     },
     "execution_count": 8,
     "metadata": {},
     "output_type": "execute_result"
    },
    {
     "data": {
      "image/png": "[encoded data removed]",
      "text/plain": [
       "<Figure size 432x288 with 1 Axes>"
      ]
     },
     "metadata": {
      "needs_background": "light"
     },
     "output_type": "display_data"
    }
   ],
   "source": [
    "sns.distplot(df.msrp[df.msrp < 100000], kde=False)\n",
    "# sns.displot(df.msrp[df.msrp < 100000], kde=False)\n",
    "# sns.histplot(df.msrp[df.msrp < 100000], kde=False)\n"
   ]
  },
  {
   "cell_type": "markdown",
   "id": "statewide-munich",
   "metadata": {},
   "source": [
    "**Figure 2.6. The distribution of the prices for cars below $100,000. Looking only at car prices below $100,000\n",
    "allows us to see the head of the distribution better. We also notice a lot of cars that cost $1,000.**\n",
    "\n",
    "The long tail makes it quite difficult for us to see the distribution, but it has an even stronger\n",
    "effect on a model: such distribution can greatly confuse the model, so it won’t learn well\n",
    "enough. One way to solve this problem is log transformation. If we apply the log function to\n",
    "the prices, it removes the undesired effect (figure 2.7). \n",
    "\n",
    "**Figure 2.7 The logarithm of the price. The effect of the long tail is removed, and we can see the entire\n",
    "distribution in one plot.**\n",
    "\n",
    "\n",
    "The +1 part is important in cases that have zeros. The logarithm of zero is minus infinity, but\n",
    "the logarithm of one is zero. If our values are all non-negative, by adding 1, we make sure\n",
    "that the transformed values do not go below zero.\n",
    "\n",
    "\n",
    "For our specific case, zero values are not an issue. All the prices we have start at $1,000;\n",
    "but it’s still a convention that we follow. NumPy has a function that performs this\n",
    "transformation:"
   ]
  },
  {
   "cell_type": "code",
   "execution_count": 9,
   "id": "legendary-observation",
   "metadata": {},
   "outputs": [],
   "source": [
    "log_price = np.log1p(df.msrp) "
   ]
  },
  {
   "cell_type": "markdown",
   "id": "photographic-piece",
   "metadata": {},
   "source": [
    "To look at the distribution of the prices after the transformation, we can use the same distplot\n",
    "function (figure 2.7):"
   ]
  },
  {
   "cell_type": "code",
   "execution_count": 10,
   "id": "broken-surgery",
   "metadata": {},
   "outputs": [
    {
     "data": {
      "text/plain": [
       "<AxesSubplot:xlabel='msrp'>"
      ]
     },
     "execution_count": 10,
     "metadata": {},
     "output_type": "execute_result"
    },
    {
     "data": {
      "image/png": "[encoded data removed]",
      "text/plain": [
       "<Figure size 432x288 with 1 Axes>"
      ]
     },
     "metadata": {
      "needs_background": "light"
     },
     "output_type": "display_data"
    }
   ],
   "source": [
    "sns.distplot(log_price, kde=False) \n",
    "# sns.displot(log_price, kde=False) \n",
    "# sns.histplot(log_price, kde=False) "
   ]
  },
  {
   "cell_type": "markdown",
   "id": "studied-tanzania",
   "metadata": {},
   "source": [
    "As we see, this transformation removes the long tail, and now the distribution resembles a\n",
    "bell-shaped curve. This distribution is not normal, of course, because of the large peak in\n",
    "lower prices, but the model can deal with it more easily. \n",
    "\n",
    "**NOTE Generally, it’s good when the target distribution looks like the normal distribution (figure 2.8). Under\n",
    "this condition, models such as linear regression perform well.**"
   ]
  },
  {
   "cell_type": "raw",
   "id": "joint-saver",
   "metadata": {},
   "source": [
    "place image here"
   ]
  },
  {
   "cell_type": "markdown",
   "id": "seven-comedy",
   "metadata": {},
   "source": [
    "**Figure 2.8: The normal distribution, also known as Gaussian, follows the bell-shaped curve, which is symmetric\n",
    "and has a peak in the center.**\n",
    "\n",
    "#### Exercise 2.1\n",
    "\n",
    "\n",
    "The head of a distribution is a range where there are many values. What is a long tail of a\n",
    "distribution?\n",
    "\n",
    "\n",
    "a) A big peak around 1000 USD\n",
    "\n",
    "b) A case when many values are spread very far from the head — and these values\n",
    "visually appear as a “tail” on the histogram\n",
    "\n",
    "c) A lot of very similar values packed together within a short range\n",
    "\n",
    "### 2.2.4 Checking for missing values\n",
    "\n",
    "\n",
    "We will look more closely at other features a bit later, but one thing we should do now is check\n",
    "for missing values in the data. This step is important because typically, machine learning\n",
    "models cannot deal with missing values automatically. We need to know whether we need to\n",
    "do anything special to handle those values.\n",
    "\n",
    "\n",
    "Pandas has is a convenient function that checks for missing values: "
   ]
  },
  {
   "cell_type": "code",
   "execution_count": 11,
   "id": "confirmed-mexican",
   "metadata": {},
   "outputs": [
    {
     "data": {
      "text/plain": [
       "make                    0\n",
       "model                   0\n",
       "year                    0\n",
       "engine_fuel_type        3\n",
       "engine_hp              69\n",
       "engine_cylinders       30\n",
       "transmission_type       0\n",
       "driven_wheels           0\n",
       "number_of_doors         6\n",
       "market_category      3742\n",
       "vehicle_size            0\n",
       "vehicle_style           0\n",
       "highway_mpg             0\n",
       "city_mpg                0\n",
       "popularity              0\n",
       "msrp                    0\n",
       "dtype: int64"
      ]
     },
     "execution_count": 11,
     "metadata": {},
     "output_type": "execute_result"
    }
   ],
   "source": [
    "df.isnull().sum()"
   ]
  },
  {
   "cell_type": "markdown",
   "id": "three-thermal",
   "metadata": {},
   "source": [
    "The first thing we see is that MSRP — our target variable — doesn’t have any missing values.\n",
    "This result is good because otherwise, such records won’t be useful to us: we always need to\n",
    "know the target value of an observation to use it for training the model. Also, a few columns\n",
    "have missing values, especially market_category, in which we have almost 4,000 rows with\n",
    "missing values.\n",
    "\n",
    "\n",
    "We will need to deal with missing values later, when we train the model, so we should\n",
    "keep this problem in mind. For now, we won’t do anything else with these features and will\n",
    "proceed to the next step: setting up the validation framework so that we can train and test\n",
    "machine learning models.\n",
    "\n",
    "\n",
    "### 2.2.5 Validation framework\n",
    "\n",
    "\n",
    "As we learned previously, it’s important to set up the validation framework as early as possible\n",
    "to make sure that the models we train are good and can generalize. That is, that the model\n",
    "can be applied to new unseen data. To do that, we put aside some data and train the model\n",
    "only on one part. Then we use the held-out dataset — the one we didn’t use for training — to\n",
    "make sure that the predictions of the model make sense.\n",
    "\n",
    "\n",
    "It’s important because we train the model by using optimization methods that fit the\n",
    "function g(X) to the data X. Sometimes these optimization methods pick up spurious patterns\n",
    "— patterns that appear to be real patterns to the model but in reality are random fluctuations.\n",
    "If we have a small training dataset in which all BMW cars cost only $10,000, for example, the\n",
    "model will think that this is true for all BMW cars in the world.\n",
    "\n",
    "\n",
    "To ensure that this doesn’t happen, we use validation. Because the validation dataset is\n",
    "not used for training the model, the optimization method did not see this data. So when we\n",
    "apply the model to this data, it emulates the case of applying the model to new data that we\n",
    "never saw. If the validation dataset has BMW cars with prices higher than $10,000, but our model will predict 10,000 on them, we will notice that the model doesn’t perform well on\n",
    "these examples.\n",
    "\n",
    "\n",
    "As we already know, we need to split the dataset into three parts: train, validation, and\n",
    "test (figure 2.9)."
   ]
  },
  {
   "cell_type": "raw",
   "id": "chemical-market",
   "metadata": {},
   "source": [
    "place image here"
   ]
  },
  {
   "cell_type": "markdown",
   "id": "russian-dream",
   "metadata": {},
   "source": [
    "**Figure 2.9 The entire dataset is split into three parts: train, validation and test.**\n",
    "\n",
    "Let’s split the dataframe such that:\n",
    "* 20% of data goes to validation,\n",
    "* 20% goes to test, and\n",
    "* the remaining 60% goes to train."
   ]
  },
  {
   "cell_type": "code",
   "execution_count": 12,
   "id": "focal-medicaid",
   "metadata": {},
   "outputs": [],
   "source": [
    "# Get the number of rows in the dataframe. \n",
    "n = len(df) # A\n",
    "\n",
    "#Calculate how many rows should go to train, validation, and test. \n",
    "n_val = int(0.2 * n) # B\n",
    "n_test = int(0.2 * n) # B\n",
    "n_train = n - (n_val + n_test) # B\n",
    "\n",
    "#  Fix the random seed to make sure that the results are reproducible. \n",
    "np.random.seed(2) # C\n",
    "\n",
    "# Create a NumPy array with indices from 0 to (n-1) and shuffle it.\n",
    "idx = np.arange(n) # D\n",
    "np.random.shuffle(idx) # D\n",
    "\n",
    "#  Use the array with indices to get a shuffled dataframe. \n",
    "df_shuffled = df.iloc[idx] # E\n",
    "\n",
    "# Split the shuffled dataframe into train, validation, and test. \n",
    "df_train = df_shuffled.iloc[:n_train].copy() # F\n",
    "df_val = df_shuffled.iloc[n_train:n_train+n_val].copy() # F\n",
    "df_test = df_shuffled.iloc[n_train+n_val:].copy() # F"
   ]
  },
  {
   "cell_type": "markdown",
   "id": "undefined-creativity",
   "metadata": {},
   "source": [
    "Let’s take a closer look at this code and clarify a few things.\n",
    "\n",
    "\n",
    "In D, we create an array and then shuffle it. Let’s see what happens there. We can take a\n",
    "smaller array of five elements and shuffle it:"
   ]
  },
  {
   "cell_type": "raw",
   "id": "orange-denial",
   "metadata": {},
   "source": [
    "idx = np.arange(5)\n",
    "print('before shuffle', idx)\n",
    "np.random.shuffle(idx)\n",
    "print('after shuffle', idx)"
   ]
  },
  {
   "cell_type": "markdown",
   "id": "olive-display",
   "metadata": {},
   "source": [
    "If we run it, it prints something similar to "
   ]
  },
  {
   "cell_type": "raw",
   "id": "healthy-speech",
   "metadata": {},
   "source": [
    "before shuffle [0 1 2 3 4]\n",
    "after shuffle [2 3 0 4 1] "
   ]
  },
  {
   "cell_type": "markdown",
   "id": "understanding-contents",
   "metadata": {},
   "source": [
    "If we run it again, however, the results will be different:"
   ]
  },
  {
   "cell_type": "raw",
   "id": "tender-benjamin",
   "metadata": {},
   "source": [
    "before shuffle [0 1 2 3 4]\n",
    "after shuffle [4 3 0 2 1] "
   ]
  },
  {
   "cell_type": "markdown",
   "id": "seventh-amino",
   "metadata": {},
   "source": [
    "To make sure that every time we run it, the results are the same, in C we fix the random\n",
    "seed: \n"
   ]
  },
  {
   "cell_type": "raw",
   "id": "meaning-theology",
   "metadata": {},
   "source": [
    "np.random.seed(2)\n",
    "idx = np.arange(5)\n",
    "print('before shuffle', idx)\n",
    "np.random.shuffle(idx)\n",
    "print('after shuffle', idx) "
   ]
  },
  {
   "cell_type": "markdown",
   "id": "afraid-viewer",
   "metadata": {},
   "source": [
    "The function np.random.seed takes in any number and use this number as the starting seed\n",
    "for all the generated data inside NumPy’s random package.\n",
    "\n",
    "When we execute this code, it prints the following:"
   ]
  },
  {
   "cell_type": "raw",
   "id": "distinct-discretion",
   "metadata": {},
   "source": [
    "before shuffle [0 1 2 3 4]\n",
    "after shuffle [2 4 1 3 0] "
   ]
  },
  {
   "cell_type": "markdown",
   "id": "legitimate-compact",
   "metadata": {},
   "source": [
    "In this case the results are still random, but when we re-execute it, the result turns out to be\n",
    "the same as previously: "
   ]
  },
  {
   "cell_type": "raw",
   "id": "official-placement",
   "metadata": {},
   "source": [
    "before shuffle [0 1 2 3 4]\n",
    "after shuffle [2 4 1 3 0] "
   ]
  },
  {
   "cell_type": "markdown",
   "id": "former-constraint",
   "metadata": {},
   "source": [
    "This is good for reproducibility. If we want somebody else to run this code and get the same\n",
    "results, we need to make sure that everything is fixed, even the “random” component of our\n",
    "code.\n",
    "\n",
    "\n",
    "After we create an array with indices idx, we can use it to get a shuffled version of our\n",
    "initial dataframe. For that purpose in E, we use iloc, which is a way to access the rows of the\n",
    "dataframe by their numbers: \n"
   ]
  },
  {
   "cell_type": "raw",
   "id": "stretch-munich",
   "metadata": {},
   "source": [
    "df_shuffled = df.iloc[idx] "
   ]
  },
  {
   "cell_type": "markdown",
   "id": "traditional-poker",
   "metadata": {},
   "source": [
    "If idx contains shuffled consequent numbers, this code will produce a shuffled dataframe\n",
    "(figure 2.10)."
   ]
  },
  {
   "cell_type": "raw",
   "id": "spectacular-mineral",
   "metadata": {},
   "source": [
    "place image here"
   ]
  },
  {
   "cell_type": "markdown",
   "id": "presidential-turkey",
   "metadata": {},
   "source": [
    "**Figure 2.10 Using iloc to shuffle a dataframe. When used with a shuffled array of indices, it creates a shuffled\n",
    "dataframe.**\n",
    "\n",
    "In this example, we used iloc with a list of indices. We can also use ranges with the colon\n",
    "operator (:), and this is exactly what we do in F for splitting the shuffled dataframe into train,\n",
    "validation, and test: "
   ]
  },
  {
   "cell_type": "raw",
   "id": "oriental-narrative",
   "metadata": {},
   "source": [
    "df_train = df_shuffled.iloc[:n_train].copy()\n",
    "df_val = df_shuffled.iloc[n_train:n_train+n_val].copy()\n",
    "df_test = df_shuffled.iloc[n_train+n_val:].copy() "
   ]
  },
  {
   "cell_type": "markdown",
   "id": "intelligent-intersection",
   "metadata": {},
   "source": [
    "Now the dataframe is split into three parts, and we can continue. Our initial analysis showed a\n",
    "long tail in the distribution of prices, and to remove its effect, we need to apply the log\n",
    "transformation. We can do that for each dataframe separately: "
   ]
  },
  {
   "cell_type": "code",
   "execution_count": 13,
   "id": "quiet-update",
   "metadata": {},
   "outputs": [],
   "source": [
    "y_train = np.log1p(df_train.msrp.values)\n",
    "y_val = np.log1p(df_val.msrp.values)\n",
    "y_test = np.log1p(df_test.msrp.values) \n"
   ]
  },
  {
   "cell_type": "markdown",
   "id": "hidden-excess",
   "metadata": {},
   "source": [
    "To avoid accidentally using the target variable later, let’s remove it from the dataframes:"
   ]
  },
  {
   "cell_type": "code",
   "execution_count": 14,
   "id": "existing-nepal",
   "metadata": {},
   "outputs": [],
   "source": [
    "del df_train['msrp']\n",
    "del df_val['msrp']\n",
    "del df_test['msrp']"
   ]
  },
  {
   "cell_type": "markdown",
   "id": "atlantic-halifax",
   "metadata": {},
   "source": [
    "**NOTE: Removing the target variable is an optional step. But it’s helpful to make sure that we don’t use it\n",
    "when training a model: if it happens, we’d use price for predicting the price, and our model would have the\n",
    "perfect accuracy.**\n",
    "\n",
    "When the validation split is done, we can do the next step: training a model.\n",
    "    \n",
    "    \n",
    "## 2.3 Machine learning for regression\n",
    "\n",
    "\n",
    "After performing the initial data analysis, we are ready to train a model. The problem we are\n",
    "solving is a regression problem: the goal is to predict a number — the price of a car. For this\n",
    "project we will use the simplest regression model: linear regression.\n",
    "    \n",
    "    \n",
    "### 2.3.1 Linear regression\n",
    "\n",
    "\n",
    "To predict the price of a car we need to use a machine learning model. To do this, we will use\n",
    "linear regression, which we will implement ourselves. Typically, we don’t do this by hand;\n",
    "instead, we let a framework do this for us. In this chapter, however, we want to show that\n",
    "there is no magic inside these frameworks: it’s just code. Linear regression is a perfect model\n",
    "because it’s relatively simple and can be implemented with just a few lines of NumPy code.\n",
    "\n",
    "\n",
    "First, let’s understand how linear regression works. As we know from chapter 1, a\n",
    "supervised machine learning model has the form "
   ]
  },
  {
   "cell_type": "raw",
   "id": "familiar-cookbook",
   "metadata": {},
   "source": [
    "place formula here"
   ]
  },
  {
   "cell_type": "markdown",
   "id": "sharing-electricity",
   "metadata": {},
   "source": [
    "This is a matrix form. X is a matrix where the features of observations are rows of the matrix\n",
    "and y is a vector with the values we want to predict.\n",
    "\n",
    "\n",
    "These matrices and vectors may sound confusing, so let’s take a step back and consider\n",
    "what happens with a single observation xi and the value yi that we want to predict. The index i\n",
    "here means that this is an observation number i, one of m observations that we have in our\n",
    "training dataset.\n",
    "\n",
    "\n",
    "Then, for this single observation, the formula above looks like"
   ]
  },
  {
   "cell_type": "raw",
   "id": "liked-melbourne",
   "metadata": {},
   "source": [
    "place formula here"
   ]
  },
  {
   "cell_type": "markdown",
   "id": "solar-destiny",
   "metadata": {},
   "source": [
    "If we have n features, our vector xi is n-dimensional, so it has n components:"
   ]
  },
  {
   "cell_type": "raw",
   "id": "attended-stocks",
   "metadata": {},
   "source": [
    "place formula here"
   ]
  },
  {
   "cell_type": "markdown",
   "id": "wicked-pharmacology",
   "metadata": {},
   "source": [
    "Because it has n components, we can write the function g as a function with n parameters,\n",
    "which is the same as the previous formula: "
   ]
  },
  {
   "cell_type": "raw",
   "id": "aboriginal-wrestling",
   "metadata": {},
   "source": [
    "place formula here"
   ]
  },
  {
   "cell_type": "markdown",
   "id": "specialized-failing",
   "metadata": {},
   "source": [
    "For our case, we have 7,150 cars in the training dataset. This means that m = 7150, and i can\n",
    "be any number between 0 and 7,149. For i = 10, for example, we have the following car:"
   ]
  },
  {
   "cell_type": "code",
   "execution_count": 15,
   "id": "limiting-astrology",
   "metadata": {},
   "outputs": [
    {
     "data": {
      "text/plain": [
       "make                                 rolls-royce\n",
       "model                     phantom_drophead_coupe\n",
       "year                                        2015\n",
       "engine_fuel_type     premium_unleaded_(required)\n",
       "engine_hp                                    453\n",
       "engine_cylinders                              12\n",
       "transmission_type                      automatic\n",
       "driven_wheels                   rear_wheel_drive\n",
       "number_of_doors                                2\n",
       "market_category        exotic,luxury,performance\n",
       "vehicle_size                               large\n",
       "vehicle_style                        convertible\n",
       "highway_mpg                                   19\n",
       "city_mpg                                      11\n",
       "popularity                                    86\n",
       "msrp                                      479775\n",
       "Name: 7557, dtype: object"
      ]
     },
     "execution_count": 15,
     "metadata": {},
     "output_type": "execute_result"
    }
   ],
   "source": [
    "df_shuffled.iloc[10] # full record"
   ]
  },
  {
   "cell_type": "code",
   "execution_count": 16,
   "id": "chinese-weight",
   "metadata": {},
   "outputs": [
    {
     "data": {
      "text/plain": [
       "13.08107460729463"
      ]
     },
     "execution_count": 16,
     "metadata": {},
     "output_type": "execute_result"
    }
   ],
   "source": [
    "y_train[10] # logirithmic price"
   ]
  },
  {
   "cell_type": "code",
   "execution_count": 17,
   "id": "acoustic-tumor",
   "metadata": {},
   "outputs": [
    {
     "data": {
      "text/plain": [
       "479776.00000000006"
      ]
     },
     "execution_count": 17,
     "metadata": {},
     "output_type": "execute_result"
    }
   ],
   "source": [
    "np.exp(y_train[10]) # price"
   ]
  },
  {
   "cell_type": "code",
   "execution_count": 18,
   "id": "golden-humidity",
   "metadata": {},
   "outputs": [
    {
     "data": {
      "text/plain": [
       "make                                 rolls-royce\n",
       "model                     phantom_drophead_coupe\n",
       "year                                        2015\n",
       "engine_fuel_type     premium_unleaded_(required)\n",
       "engine_hp                                    453\n",
       "engine_cylinders                              12\n",
       "transmission_type                      automatic\n",
       "driven_wheels                   rear_wheel_drive\n",
       "number_of_doors                                2\n",
       "market_category        exotic,luxury,performance\n",
       "vehicle_size                               large\n",
       "vehicle_style                        convertible\n",
       "highway_mpg                                   19\n",
       "city_mpg                                      11\n",
       "popularity                                    86\n",
       "Name: 7557, dtype: object"
      ]
     },
     "execution_count": 18,
     "metadata": {},
     "output_type": "execute_result"
    }
   ],
   "source": [
    "df_train.iloc[10]"
   ]
  },
  {
   "cell_type": "markdown",
   "id": "cleared-sheriff",
   "metadata": {},
   "source": [
    "Let’s pick a few numerical features and ignore the rest for now. We can start with horsepower,\n",
    "mpg in the city, and popularity: "
   ]
  },
  {
   "cell_type": "code",
   "execution_count": 19,
   "id": "norman-manufacturer",
   "metadata": {},
   "outputs": [
    {
     "data": {
      "text/plain": [
       "engine_hp     453\n",
       "city_mpg       11\n",
       "popularity     86\n",
       "Name: 7557, dtype: object"
      ]
     },
     "execution_count": 19,
     "metadata": {},
     "output_type": "execute_result"
    }
   ],
   "source": [
    "df_train.iloc[10][['engine_hp','city_mpg','popularity']]"
   ]
  },
  {
   "cell_type": "markdown",
   "id": "yellow-celebration",
   "metadata": {},
   "source": [
    "Then let’s assign these features to xi1, xi2, and xi3, respectively. This way, we get the feature\n",
    "vector xi with 3 components: "
   ]
  },
  {
   "cell_type": "raw",
   "id": "collect-prototype",
   "metadata": {},
   "source": [
    "place formula here"
   ]
  },
  {
   "cell_type": "markdown",
   "id": "occupied-wayne",
   "metadata": {},
   "source": [
    "To make it easier to understand, we can translate this mathematical notation to Python. In our\n",
    "case, the function g has the following signature:"
   ]
  },
  {
   "cell_type": "raw",
   "id": "sophisticated-accessory",
   "metadata": {},
   "source": [
    "def g(xi):\n",
    " # xi is a list with n elements\n",
    " # do something with xi\n",
    " # return the result\n",
    " pass \n"
   ]
  },
  {
   "cell_type": "markdown",
   "id": "forty-editor",
   "metadata": {},
   "source": [
    "In this code, the variable xi is our vector 𝑥𝑖. Depending on implementation, xi could be a list\n",
    "with n elements or a NumPy array of size n.\n",
    "\n",
    "\n",
    "For the car above, xi is a list with three elements: "
   ]
  },
  {
   "cell_type": "raw",
   "id": "choice-serve",
   "metadata": {},
   "source": [
    "xi = [453, 11, 86]"
   ]
  },
  {
   "cell_type": "markdown",
   "id": "patient-regulation",
   "metadata": {},
   "source": [
    "When we apply the function g to a vector xi, it produces y_pred as the output, which is the\n",
    "g’s prediction for xi: "
   ]
  },
  {
   "cell_type": "raw",
   "id": "complicated-syndication",
   "metadata": {},
   "source": [
    "y_pred = g(xi) \n"
   ]
  },
  {
   "cell_type": "markdown",
   "id": "engaged-heritage",
   "metadata": {},
   "source": [
    "We expect this prediction to be as close as possible to yi, which is the real price of the car.\n",
    "\n",
    "\n",
    "**NOTE: In this section, we will use Python to illustrate the ideas behind mathematical formulas. We don’t\n",
    "need to use these code snippets for doing the project. On the other hand, taking this code, putting it into\n",
    "Jupyter, and trying to run it could be helpful for understanding the concepts.**\n",
    "\n",
    "\n",
    "There are many ways the function g could look, and the choice of a machine learning\n",
    "algorithm defines the way it works.\n",
    "\n",
    "\n",
    "If g is the linear regression model, it has the following form: \n",
    "\n"
   ]
  },
  {
   "cell_type": "raw",
   "id": "personalized-serial",
   "metadata": {},
   "source": [
    "place formula here"
   ]
  },
  {
   "cell_type": "markdown",
   "id": "pleased-ceremony",
   "metadata": {},
   "source": [
    "The variables w0, w1, w2, …, wn are the parameters of the model:\n",
    "\n",
    "* w0 is the bias term.\n",
    "* w1, w2, …, wn are the weights for each feature xi1, xi2, …, xin.\n",
    "\n",
    "These parameters define exactly how the model should combine the features so that the\n",
    "predictions at the end are as good as possible. It’s okay if the meaning behind these\n",
    "parameters is not clear yet, since we will cover them later in this section.\n",
    "\n",
    "To keep the formula shorter, let’s use sum notation: "
   ]
  },
  {
   "cell_type": "raw",
   "id": "exposed-discharge",
   "metadata": {},
   "source": [
    "place formula here"
   ]
  },
  {
   "cell_type": "markdown",
   "id": "developing-virtue",
   "metadata": {},
   "source": [
    "#### Exercise 2.2\n",
    "\n",
    "For supervised learning, a machine learning model for a single observation yi ≈ g(xi). What\n",
    "are xi and yi for this project?\n",
    "\n",
    "**a) xi is a feature vector - a vector that contains a few numbers that describe the\n",
    "object (a car), and yi is the logarithm of the price of this car**\n",
    "\n",
    "b) yi is a feature vector - a vector that contains a few numbers that describe the\n",
    "object (a car), and xi is the logarithm of the price of this car"
   ]
  },
  {
   "cell_type": "code",
   "execution_count": 20,
   "id": "convinced-interval",
   "metadata": {},
   "outputs": [
    {
     "data": {
      "text/plain": [
       "[453.0, 11, 86]"
      ]
     },
     "execution_count": 20,
     "metadata": {},
     "output_type": "execute_result"
    }
   ],
   "source": [
    "xi1 = df_train.iloc[10][['engine_hp','city_mpg','popularity']][0]\n",
    "xi2 = df_train.iloc[10][['engine_hp','city_mpg','popularity']][1]\n",
    "xi3 = df_train.iloc[10][['engine_hp','city_mpg','popularity']][2]\n",
    "xi = [xi1,xi2,xi3]\n",
    "xi"
   ]
  },
  {
   "cell_type": "code",
   "execution_count": 21,
   "id": "circular-health",
   "metadata": {},
   "outputs": [
    {
     "data": {
      "text/plain": [
       "13.08107460729463"
      ]
     },
     "execution_count": 21,
     "metadata": {},
     "output_type": "execute_result"
    }
   ],
   "source": [
    "yi = y_train[10]\n",
    "yi"
   ]
  },
  {
   "cell_type": "markdown",
   "id": "helpful-banks",
   "metadata": {},
   "source": [
    "These weights are what the model learns when we train it. We can have a model with the\n",
    "following weights, for example (table 2.1).\n",
    "\n",
    "\n",
    "**Table 2.1 An example of weights that a linear regression model learned**"
   ]
  },
  {
   "cell_type": "raw",
   "id": "affected-tuesday",
   "metadata": {},
   "source": [
    "place image here"
   ]
  },
  {
   "cell_type": "markdown",
   "id": "billion-reply",
   "metadata": {},
   "source": [
    "So if we want to translate this model to Python, this is how it will look:"
   ]
  },
  {
   "cell_type": "code",
   "execution_count": 22,
   "id": "infrared-synthesis",
   "metadata": {},
   "outputs": [],
   "source": [
    "w0 = 7.17\n",
    "w = [0.01, 0.04, 0.002] # [w1 w2 w3 ]\n",
    "n = 3\n",
    "def linear_regression(xi):\n",
    "    result = w0\n",
    "    for j in range(n):\n",
    "        result = result + xi[j] * w[j]\n",
    "#         print(xi[j])\n",
    "    return result "
   ]
  },
  {
   "cell_type": "markdown",
   "id": "collective-solid",
   "metadata": {},
   "source": [
    "We put all the feature weights inside a single list w — just like we did with xi previously. All\n",
    "we need to do now is loop over these weights and multiply them by the corresponding feature\n",
    "values. This is nothing else, but the direct translation of the formula above to Python.\n",
    "This is easy to see. Have another look at the formula: "
   ]
  },
  {
   "cell_type": "raw",
   "id": "monthly-arrow",
   "metadata": {},
   "source": [
    "place formula here"
   ]
  },
  {
   "cell_type": "markdown",
   "id": "assisted-tooth",
   "metadata": {},
   "source": [
    "Our example has three features, so n = 3, and we have"
   ]
  },
  {
   "cell_type": "raw",
   "id": "mature-pixel",
   "metadata": {},
   "source": [
    "place formula here"
   ]
  },
  {
   "cell_type": "markdown",
   "id": "prescribed-haven",
   "metadata": {},
   "source": [
    "This is exactly what we have in the code: "
   ]
  },
  {
   "cell_type": "code",
   "execution_count": 23,
   "id": "focused-flush",
   "metadata": {},
   "outputs": [
    {
     "data": {
      "text/plain": [
       "12.312"
      ]
     },
     "execution_count": 23,
     "metadata": {},
     "output_type": "execute_result"
    }
   ],
   "source": [
    "# manual\n",
    "result = w0 + xi[0] * w[0] + xi[1] * w[1] + xi[2] * w[2]\n",
    "result"
   ]
  },
  {
   "cell_type": "markdown",
   "id": "diagnostic-verse",
   "metadata": {},
   "source": [
    "With the simple exception that indexing in Python starts with 0, xi1 becomes xi[0] and w1 is\n",
    "w[0].\n",
    "\n",
    "Now let’s see what happens when we apply the model to our observation xi and replace the\n",
    "weights with their values: "
   ]
  },
  {
   "cell_type": "raw",
   "id": "champion-sheep",
   "metadata": {},
   "source": [
    "place formula here"
   ]
  },
  {
   "cell_type": "markdown",
   "id": "rental-opera",
   "metadata": {},
   "source": [
    "The prediction we get for this observation is 12.31. Remember that during preprocessing, we\n",
    "applied the logarithmic transformation to our target variable y. This is why the model we\n",
    "trained on this data also predicts the logarithm of the price. To undo the transformation, we\n",
    "need to take the exponent of the logarithm. In our case, when we do it, the prediction\n",
    "becomes 220,000.\n",
    "\n",
    "\n",
    "The bias term (7.17) is the value we would predict if we didn’t know anything about the\n",
    "car; it serves as a baseline.\n",
    "\n",
    "\n",
    "We do know something about the car, however: horsepower, mpg in the city, and\n",
    "popularity. These features are the xi1, xi2, and xi3 features, each of which tells us something\n",
    "about the car. We use this information to adjust the baseline.\n",
    "\n",
    "\n",
    "Let’s consider the first feature: horsepower. The weight for this feature is 0.01, which\n",
    "means that for each extra unit of horsepower, we adjust the baseline by adding 0.01. Because\n",
    "we have 453 horses in the engine, we add 4.53 to the baseline: 453 horses ⋅ 0.01 = 4.53.\n",
    "The same happens with mpg. Each additional mpg increases the price by 0.04, so we add\n",
    "0.44: 11 mpg ⋅ 0.04 = 0.44.\n",
    "\n",
    "\n",
    "Finally, we take popularity into account. In our example, each mention in the Twitter\n",
    "stream results in a 0.002 increase. In total, popularity contributes 0.172 to the final\n",
    "prediction.\n",
    "\n",
    "\n",
    "This is exactly why we get 12.31 when we combine everything (figure 2.11). "
   ]
  },
  {
   "cell_type": "raw",
   "id": "ancient-royalty",
   "metadata": {},
   "source": [
    "place formula here"
   ]
  },
  {
   "cell_type": "markdown",
   "id": "lyric-savannah",
   "metadata": {},
   "source": [
    "**Figure 2.11 The prediction of linear regression is the baseline of 7.17 (the bias term) adjusted by information we\n",
    "have from the features. Horsepower contributes 4.53 to the final prediction; mpg, 0.44; and popularity, 0.172.**\n",
    "\n",
    "\n",
    "Now let’s remember that we are actually dealing with vectors, not individual numbers. We\n",
    "know that xi is a vector with n components: "
   ]
  },
  {
   "cell_type": "raw",
   "id": "practical-rochester",
   "metadata": {},
   "source": [
    "place formula here"
   ]
  },
  {
   "cell_type": "markdown",
   "id": "underlying-martial",
   "metadata": {},
   "source": [
    "We can also put all the weights together in a single vector w: "
   ]
  },
  {
   "cell_type": "raw",
   "id": "perfect-sending",
   "metadata": {},
   "source": [
    "place formula here"
   ]
  },
  {
   "cell_type": "markdown",
   "id": "included-alert",
   "metadata": {},
   "source": [
    "In fact, we already did that in the Python example when we put all the weights in a list, which\n",
    "was a vector of dimensionality 3 with weights for each individual feature. This is how the\n",
    "vectors look like for our example: "
   ]
  },
  {
   "cell_type": "raw",
   "id": "creative-hearts",
   "metadata": {},
   "source": [
    "place formula here"
   ]
  },
  {
   "cell_type": "markdown",
   "id": "excellent-marshall",
   "metadata": {},
   "source": [
    "Because we now think of both features and weights as vectors xi and w, respectively, we can\n",
    "replace the sum of the elements of these vectors with a dot product between them: "
   ]
  },
  {
   "cell_type": "raw",
   "id": "dying-bottle",
   "metadata": {},
   "source": [
    "place formula here"
   ]
  },
  {
   "cell_type": "markdown",
   "id": "requested-sword",
   "metadata": {},
   "source": [
    "The dot product is a way of multiplying two vectors: we multiply corresponding elements of\n",
    "the vectors and then sum the results. Refer to Appendix C for more details about vectorvector multiplication.\n",
    "\n",
    "\n",
    "The translation of the formula for dot product to the code is straightforward:"
   ]
  },
  {
   "cell_type": "code",
   "execution_count": 24,
   "id": "continent-vacation",
   "metadata": {},
   "outputs": [
    {
     "name": "stdout",
     "output_type": "stream",
     "text": [
      "4.53\n",
      "4.970000000000001\n",
      "5.142\n"
     ]
    },
    {
     "data": {
      "text/plain": [
       "5.142"
      ]
     },
     "execution_count": 24,
     "metadata": {},
     "output_type": "execute_result"
    }
   ],
   "source": [
    "def dot(xi, w):\n",
    "    n = len(w)\n",
    "    result = 0.0\n",
    "    for j in range(n):\n",
    "        result = result + xi[j] * w[j]\n",
    "        print(result)\n",
    "    return result\n",
    "dot(xi, w)"
   ]
  },
  {
   "cell_type": "markdown",
   "id": "received-target",
   "metadata": {},
   "source": [
    "Using the new notation, we can rewrite the entire equation for linear regression as "
   ]
  },
  {
   "cell_type": "raw",
   "id": "adolescent-february",
   "metadata": {},
   "source": [
    "place formula here"
   ]
  },
  {
   "cell_type": "markdown",
   "id": "asian-radio",
   "metadata": {},
   "source": [
    "where\n",
    "\n",
    "* w0 is the bias term.\n",
    "* w is the n-dimensional vector of weights.\n",
    "\n",
    "Now we can use the new dot function, so the linear regression function in Python becomes\n",
    "very short:"
   ]
  },
  {
   "cell_type": "code",
   "execution_count": 25,
   "id": "fixed-ethernet",
   "metadata": {},
   "outputs": [
    {
     "name": "stdout",
     "output_type": "stream",
     "text": [
      "4.53\n",
      "4.970000000000001\n",
      "5.142\n"
     ]
    },
    {
     "data": {
      "text/plain": [
       "12.312000000000001"
      ]
     },
     "execution_count": 25,
     "metadata": {},
     "output_type": "execute_result"
    }
   ],
   "source": [
    "def linear_regression(xi):\n",
    "     return w0 + dot(xi, w) \n",
    "linear_regression(xi)"
   ]
  },
  {
   "cell_type": "markdown",
   "id": "historical-custom",
   "metadata": {},
   "source": [
    "Alternatively, if xi and w are NumPy arrays, we can use the built-in dot method for multiplication:"
   ]
  },
  {
   "cell_type": "raw",
   "id": "raising-farming",
   "metadata": {},
   "source": [
    "def linear_regression(xi):\n",
    "     return w0 + xi.dot(w)\n",
    "linear_regression(xi)"
   ]
  },
  {
   "cell_type": "markdown",
   "id": "promotional-hierarchy",
   "metadata": {},
   "source": [
    "To make it even shorter, we can combine w0 and w into one (n+1)-dimensional vector by\n",
    "prepending w0 to w right in front of w1: "
   ]
  },
  {
   "cell_type": "raw",
   "id": "structural-metadata",
   "metadata": {},
   "source": [
    "place formula here"
   ]
  },
  {
   "cell_type": "markdown",
   "id": "coral-cassette",
   "metadata": {},
   "source": [
    "Here, we have a new weights vector w that consists of the bias term w0 followed by the\n",
    "weights w1, w2, ... from the original weights vector w.\n",
    "\n",
    "\n",
    "In Python, this is very easy to do. If we already have the old weights in a list w, all we\n",
    "need to do is the following:"
   ]
  },
  {
   "cell_type": "raw",
   "id": "regional-description",
   "metadata": {},
   "source": [
    "w = [w0] + w"
   ]
  },
  {
   "cell_type": "markdown",
   "id": "sudden-counter",
   "metadata": {},
   "source": [
    "Remember that the plus operator in Python concatenates lists, so [1] + [2, 3, 4] will create\n",
    "a new list with 4 elements: [1, 2, 3, 4]. In our case, w is already a list, so we create a new\n",
    "w with one extra element at the beginning: w0.\n",
    "\n",
    "\n",
    "Because now w becomes a (n+1)-dimensional vector, we also need to adjust the feature\n",
    "vector xi so that the dot product between them still works. We can do this easily by adding a\n",
    "dummy feature xi0, which always takes the value 1. Then we prepend this new dummy feature\n",
    "to xi right before xi1: "
   ]
  },
  {
   "cell_type": "raw",
   "id": "broke-extra",
   "metadata": {},
   "source": [
    "place formula here"
   ]
  },
  {
   "cell_type": "markdown",
   "id": "threaded-provincial",
   "metadata": {},
   "source": [
    "Or, in code:"
   ]
  },
  {
   "cell_type": "raw",
   "id": "related-parade",
   "metadata": {},
   "source": [
    "xi = [1] + xi"
   ]
  },
  {
   "cell_type": "markdown",
   "id": "blind-sharing",
   "metadata": {},
   "source": [
    "So we create a new list xi with 1 as the first element followed by all the elements from the old\n",
    "list xi.\n",
    "\n",
    "\n",
    "With these modifications, we can express the model as the dot product between the new xi\n",
    "and the new w: "
   ]
  },
  {
   "cell_type": "raw",
   "id": "mighty-tampa",
   "metadata": {},
   "source": [
    "place formula here"
   ]
  },
  {
   "cell_type": "markdown",
   "id": "monetary-ministry",
   "metadata": {},
   "source": [
    "The translation to the code is simple: "
   ]
  },
  {
   "cell_type": "code",
   "execution_count": 26,
   "id": "educated-harrison",
   "metadata": {},
   "outputs": [
    {
     "name": "stdout",
     "output_type": "stream",
     "text": [
      "7.17\n",
      "11.7\n",
      "12.139999999999999\n",
      "12.312\n"
     ]
    },
    {
     "data": {
      "text/plain": [
       "12.312"
      ]
     },
     "execution_count": 26,
     "metadata": {},
     "output_type": "execute_result"
    }
   ],
   "source": [
    "w0 = 7.17\n",
    "w = [0.01, 0.04, 0.002]\n",
    "w = [w0] + w\n",
    "\n",
    "def linear_regression(xi):\n",
    "    xi = [1] + xi\n",
    "    return dot(xi, w) \n",
    "linear_regression(xi)"
   ]
  },
  {
   "cell_type": "markdown",
   "id": "fatty-gateway",
   "metadata": {},
   "source": [
    "These formulas for linear regressions are equivalent because the first feature of the new xi is\n",
    "1, so when we multiply the first component of xi by the first component of w, we get the bias\n",
    "term, because w0 ⋅ 1 = w0.\n",
    "\n",
    "\n",
    "We are ready to consider the bigger picture again and talk about the matrix form. There\n",
    "are many observations and xi is one of them. Thus, we have m feature vectors x1, x2, …, xi,\n",
    "…, xm, and each of these vectors consists of n+1 features: \n"
   ]
  },
  {
   "cell_type": "raw",
   "id": "ordinary-catalog",
   "metadata": {},
   "source": [
    "place formula here"
   ]
  },
  {
   "cell_type": "markdown",
   "id": "related-insulation",
   "metadata": {},
   "source": [
    "We can put these vectors together as rows of a matrix. Let’s call this matrix X (figure 2.12). "
   ]
  },
  {
   "cell_type": "raw",
   "id": "wired-sheep",
   "metadata": {},
   "source": [
    "place image here"
   ]
  },
  {
   "cell_type": "markdown",
   "id": "blind-court",
   "metadata": {},
   "source": [
    "**Figure 2.12 Matrix X, in which observations x1, x2, …, xm are rows**\n",
    "\n",
    "Let’s see how it looks in code. We can take a few rows from the training dataset, such as the\n",
    "first, second, and tenth:"
   ]
  },
  {
   "cell_type": "code",
   "execution_count": 27,
   "id": "acknowledged-space",
   "metadata": {},
   "outputs": [
    {
     "data": {
      "text/plain": [
       "array([ 9.57574708,  9.887663  , 13.08107461])"
      ]
     },
     "execution_count": 27,
     "metadata": {},
     "output_type": "execute_result"
    }
   ],
   "source": [
    "y1 = y_train[0]\n",
    "y2 = y_train[1]\n",
    "y10 = y_train[10]\n",
    "y = np.array([y1,y2,y10])\n",
    "y"
   ]
  },
  {
   "cell_type": "code",
   "execution_count": 28,
   "id": "nominated-limit",
   "metadata": {},
   "outputs": [],
   "source": [
    "x1 = [1, 148, 24, 1385]\n",
    "x2 = [1, 132, 25, 2031]\n",
    "x10 = [1, 453, 11, 86] "
   ]
  },
  {
   "cell_type": "markdown",
   "id": "commercial-aggregate",
   "metadata": {},
   "source": [
    "Now let’s put the rows together in another list: \n",
    "\n",
    "List X now contains three lists. We can think of it as a 3x4 matrix — a matrix with three rows\n",
    "and four columns: "
   ]
  },
  {
   "cell_type": "code",
   "execution_count": 29,
   "id": "asian-proxy",
   "metadata": {},
   "outputs": [
    {
     "data": {
      "text/plain": [
       "[[1, 148, 24, 1385], [1, 132, 25, 2031], [1, 453, 11, 86]]"
      ]
     },
     "execution_count": 29,
     "metadata": {},
     "output_type": "execute_result"
    }
   ],
   "source": [
    "X = [x1, x2, x10]\n",
    "X"
   ]
  },
  {
   "cell_type": "code",
   "execution_count": 30,
   "id": "alternative-department",
   "metadata": {},
   "outputs": [
    {
     "data": {
      "text/plain": [
       "array([[   1,  148,   24, 1385],\n",
       "       [   1,  132,   25, 2031],\n",
       "       [   1,  453,   11,   86]])"
      ]
     },
     "execution_count": 30,
     "metadata": {},
     "output_type": "execute_result"
    }
   ],
   "source": [
    "X = np.array([x1, x2, x10])\n",
    "X"
   ]
  },
  {
   "cell_type": "markdown",
   "id": "limiting-version",
   "metadata": {},
   "source": [
    "Each column of this matrix is a feature:\n",
    "    \n",
    "1. The first column is a dummy feature with “1”\n",
    "\n",
    "2. The second column is the engine horsepower\n",
    "\n",
    "3. The third — MPG in the city\n",
    "\n",
    "4. And the last one — popularity, or the number of mentions in a Twitter stream\n",
    "\n",
    "We already learned that to make a prediction for a single feature vector, we need to calculate\n",
    "the dot product between this feature vector and the weights vector. Now we have a matrix X,\n",
    "which in Python is a list of feature vectors. To make predictions for all the rows of the matrix,\n",
    "we can simply iterate over all rows of X and compute the dot product: "
   ]
  },
  {
   "cell_type": "code",
   "execution_count": 31,
   "id": "covered-reply",
   "metadata": {},
   "outputs": [
    {
     "name": "stdout",
     "output_type": "stream",
     "text": [
      "7.17\n",
      "8.65\n",
      "9.61\n",
      "12.379999999999999\n",
      "7.17\n",
      "8.49\n",
      "9.49\n",
      "13.552\n",
      "7.17\n",
      "11.7\n",
      "12.139999999999999\n",
      "12.312\n"
     ]
    },
    {
     "data": {
      "text/plain": [
       "[12.379999999999999, 13.552, 12.312]"
      ]
     },
     "metadata": {},
     "output_type": "display_data"
    },
    {
     "data": {
      "text/plain": [
       "array([237993.82334859, 768349.51018973, 222348.22211011])"
      ]
     },
     "metadata": {},
     "output_type": "display_data"
    }
   ],
   "source": [
    "predictions = []\n",
    "for xi in X:\n",
    "    pred = dot(xi, w)\n",
    "    predictions.append(pred) \n",
    "    \n",
    "display(predictions)\n",
    "display(np.exp(predictions))"
   ]
  },
  {
   "cell_type": "markdown",
   "id": "matched-scanner",
   "metadata": {},
   "source": [
    "In linear algebra, this is the matrix-vector multiplication: we multiply the matrix X by the\n",
    "vector w. The formula for linear regression becomes "
   ]
  },
  {
   "cell_type": "raw",
   "id": "alpha-turkish",
   "metadata": {},
   "source": [
    "place formula here"
   ]
  },
  {
   "cell_type": "markdown",
   "id": "interracial-provision",
   "metadata": {},
   "source": [
    "The result is an array with predictions for each row of X. Refer to appendix C for more details\n",
    "about matrix-vector multiplication.\n",
    "With this matrix formulation, the code for applying linear regression to make predictions\n",
    "becomes very simple. The translation to NumPy becomes straightforward:"
   ]
  },
  {
   "cell_type": "code",
   "execution_count": 32,
   "id": "minute-villa",
   "metadata": {},
   "outputs": [
    {
     "data": {
      "text/plain": [
       "array([12.38 , 13.552, 12.312])"
      ]
     },
     "metadata": {},
     "output_type": "display_data"
    },
    {
     "data": {
      "text/plain": [
       "array([237993.82334859, 768349.51018973, 222348.22211011])"
      ]
     },
     "metadata": {},
     "output_type": "display_data"
    }
   ],
   "source": [
    "# predictions = np.dot(X,w)\n",
    "\n",
    "predictions = X.dot(w) \n",
    "\n",
    "\n",
    "display(predictions)\n",
    "display(np.exp(predictions))\n",
    "\n"
   ]
  },
  {
   "cell_type": "markdown",
   "id": "rough-skill",
   "metadata": {},
   "source": [
    "#### Exercise 2.3\n",
    "\n",
    "When we multiply the matrix X by the weights vector w, we get\n",
    "\n",
    "a) A vector y with the actual price\n",
    "\n",
    "b) A vector y with price predictions\n",
    "\n",
    "c) A single number y with price predictions\n",
    "\n",
    "### 2.3.2 Training linear regression model\n",
    "\n",
    "So far, we’ve only covered making predictions. To be able to do that, we need to know the\n",
    "weights w. How do we get them?\n",
    "\n",
    "We learn the weights from data: we use the target variable y to find such w that combines\n",
    "the features of X in the best possible way. “Best possible” in the case of linear regression\n",
    "means that it minimizes the error between the predictions g(X) and the actual target y.\n",
    "\n",
    "There are multiple ways to do that. We will use normal equation, which is the simplest\n",
    "method to implement. The weight vector 𝑤 can be computed with the following formula:"
   ]
  },
  {
   "cell_type": "raw",
   "id": "injured-yahoo",
   "metadata": {},
   "source": [
    "place formula here"
   ]
  },
  {
   "cell_type": "markdown",
   "id": "competitive-momentum",
   "metadata": {},
   "source": [
    "**NOTE: Covering the derivation of the normal equation is out of scope for this book. We give a bit of intuition\n",
    "of how it works in appendix C, but you should consult a machine learning textbook for a more in-depth\n",
    "introduction.**\n",
    "\n",
    "This piece of math may appear scary or confusing, but it’s quite easy to translate to NumPy:  \n",
    "    \n",
    "* T is the transpose of X. In NumPy, it’s X.T\n",
    "* TX is a matrix–matrix multiplication, which we can do with the dot method from\n",
    "NumPy: X.T.dot(X).\n",
    "* -1 is the inverse of X. We can use np.linalg.inv function to calculate the inverse.\n",
    "So the formula above translates directly to"
   ]
  },
  {
   "cell_type": "code",
   "execution_count": 33,
   "id": "micro-following",
   "metadata": {},
   "outputs": [
    {
     "data": {
      "text/plain": [
       "array([0.11696847, 0.02969558, 0.30901491, 0.00066636])"
      ]
     },
     "execution_count": 33,
     "metadata": {},
     "output_type": "execute_result"
    }
   ],
   "source": [
    "# inv(X.T.dot(X)).dot(X.T).dot(y) # page 48\n",
    "np.linalg.inv(X.T.dot(X)).dot(X.T).dot(y)"
   ]
  },
  {
   "cell_type": "markdown",
   "id": "special-jacksonville",
   "metadata": {},
   "source": [
    "Please refer to appendix C for more details about this equation.\n",
    "\n",
    "To implement the normal equation, we need to do the following: \n",
    "\n",
    "1. Create a function that takes in a matrix X with features and a vector y with the target.\n",
    "2. Add a dummy column (the feature that is always set to 1) to the matrix X.\n",
    "3. Train the model: compute the weights w by using the normal equation.\n",
    "4. Split this w into the bias w0 and the rest of the weights, and return them.\n",
    "\n",
    "The last step — splitting w into the bias term and the rest — is optional and mostly for\n",
    "convenience; otherwise, we need to add the dummy column every time we want to make\n",
    "predictions instead of doing it once during training.\n",
    "\n",
    "Let’s implement it. "
   ]
  },
  {
   "cell_type": "code",
   "execution_count": 34,
   "id": "specified-pacific",
   "metadata": {},
   "outputs": [
    {
     "data": {
      "text/plain": [
       "array([[ 148,   24, 1385],\n",
       "       [ 132,   25, 2031],\n",
       "       [ 453,   11,   86]])"
      ]
     },
     "execution_count": 34,
     "metadata": {},
     "output_type": "execute_result"
    }
   ],
   "source": [
    "x1 = [148, 24, 1385]\n",
    "x2 = [132, 25, 2031]\n",
    "x10 = [453, 11, 86] \n",
    "X = np.array([x1, x2, x10])\n",
    "X"
   ]
  },
  {
   "cell_type": "code",
   "execution_count": 35,
   "id": "wrong-picking",
   "metadata": {},
   "outputs": [
    {
     "data": {
      "text/plain": [
       "array([ 9.57574708,  9.887663  , 13.08107461])"
      ]
     },
     "execution_count": 35,
     "metadata": {},
     "output_type": "execute_result"
    }
   ],
   "source": [
    "y"
   ]
  },
  {
   "cell_type": "code",
   "execution_count": 36,
   "id": "alien-reverse",
   "metadata": {},
   "outputs": [
    {
     "data": {
      "text/plain": [
       "(0.11696846975654829, array([0.02969558, 0.30901491, 0.00066636]))"
      ]
     },
     "execution_count": 36,
     "metadata": {},
     "output_type": "execute_result"
    }
   ],
   "source": [
    "def linear_regression(X, y):\n",
    "    # adding the dummy column\n",
    "    ones = np.ones(X.shape[0]) # A\n",
    "    X = np.column_stack([ones, X]) # B\n",
    "\n",
    "    # normal equation formula\n",
    "    XTX = X.T.dot(X) # C\n",
    "    XTX_inv = np.linalg.inv(XTX) # D\n",
    "    w = XTX_inv.dot(X.T).dot(y) # E\n",
    "\n",
    "    return w[0], w[1:] # F\n",
    "linear_regression(X,y)"
   ]
  },
  {
   "cell_type": "markdown",
   "id": "above-fabric",
   "metadata": {},
   "source": [
    "With six lines of code, we have implemented our first machine learning algorithm. In A, we\n",
    "create a vector containing only ones, which we append to the matrix X as the first column;\n",
    "this is the dummy feature in B. Next, we compute XTX in C and its inverse in D, and we put\n",
    "them together to calculate w in E. Finally, we split the weights into the bias w0 and the\n",
    "remaining weights w in F.\n",
    "\n",
    "\n",
    "The column_stack function from NumPy that we used for adding a column of ones might\n",
    "be confusing at first, so let’s have a closer look at it:"
   ]
  },
  {
   "cell_type": "raw",
   "id": "retained-major",
   "metadata": {},
   "source": [
    "np.column_stack([ones, X])"
   ]
  },
  {
   "cell_type": "markdown",
   "id": "promotional-harvard",
   "metadata": {},
   "source": [
    "It takes in a list of NumPy arrays, which in our case contains ones and X and stacks them\n",
    "(figure 2.13). "
   ]
  },
  {
   "cell_type": "raw",
   "id": "earned-overhead",
   "metadata": {},
   "source": [
    "place image here"
   ]
  },
  {
   "cell_type": "markdown",
   "id": "broken-moses",
   "metadata": {},
   "source": [
    "**Figure 2.13 The function column_stack takes a list of NumPy arrays and stacks them in columns. In our case,\n",
    "the function appends the array with ones as the first column of the matrix.**\n",
    "\n",
    "If weights are split into the bias term and the rest, the linear regression formula for making\n",
    "predictions changes slightly: "
   ]
  },
  {
   "cell_type": "raw",
   "id": "german-motion",
   "metadata": {},
   "source": [
    "place formula here"
   ]
  },
  {
   "cell_type": "markdown",
   "id": "configured-delicious",
   "metadata": {},
   "source": [
    "This is still very easy to translate to NumPy: "
   ]
  },
  {
   "cell_type": "raw",
   "id": "wanted-kingdom",
   "metadata": {},
   "source": [
    "y_pred = w0 + X.dot(w) "
   ]
  },
  {
   "cell_type": "markdown",
   "id": "colored-toyota",
   "metadata": {},
   "source": [
    "Let’s use it for our project!"
   ]
  },
  {
   "cell_type": "markdown",
   "id": "italian-creature",
   "metadata": {},
   "source": [
    "## 2.4 Predicting the price\n",
    "\n",
    "We’ve covered a great deal of theory, so let’s come back to our project: predicting the price of\n",
    "a car. We now have a function for training a linear regression model at our disposal, so let’s\n",
    "use it to build a simple baseline solution. \n",
    "\n",
    "\n",
    "### 2.4.1 Baseline solution\n",
    "\n",
    "To be able to use it, however, we need to have some data: a matrix X and a vector with the\n",
    "target variable y. We have already prepared the y, but we still don’t have the X: what we haveright now is a data frame, not a matrix. So we need to extract some features from our dataset\n",
    "to create this matrix X.\n",
    "\n",
    "\n",
    "We will start with a very naive way of creating features: select a few numerical features\n",
    "and form the matrix X from them. In the example previously, we used only three features.\n",
    "This time, we include a couple more features and use the following columns:\n",
    "\n",
    "* engine_hp\n",
    "* engine_cylinders\n",
    "* highway_mpg\n",
    "* city_mpg\n",
    "* popularity \n",
    "\n",
    "\n",
    "Let’s select the features from the data frame and write them to a new variable, df_num:"
   ]
  },
  {
   "cell_type": "code",
   "execution_count": 37,
   "id": "unlike-router",
   "metadata": {},
   "outputs": [
    {
     "data": {
      "text/plain": [
       "engine_hp           40\n",
       "engine_cylinders    14\n",
       "highway_mpg          0\n",
       "city_mpg             0\n",
       "popularity           0\n",
       "dtype: int64"
      ]
     },
     "execution_count": 37,
     "metadata": {},
     "output_type": "execute_result"
    }
   ],
   "source": [
    "#  declare a variable named, 'base'. set the value to the columns above.\n",
    "base = ['engine_hp', 'engine_cylinders', 'highway_mpg', 'city_mpg','popularity']\n",
    "\n",
    "#  declare a variable named, 'df_num'. set the value to the 'base' columns of the df_train.\n",
    "df_num = df_train[base] \n",
    "\n",
    "#  test for Nan\n",
    "# df_num.iloc[350:400]\n",
    "\n",
    "# count the nulls of the df_num dataframe.\n",
    "df_num.isnull().sum()"
   ]
  },
  {
   "cell_type": "markdown",
   "id": "shaped-touch",
   "metadata": {},
   "source": [
    "As discussed in the section on exploratory data analysis, the dataset has missing values. We\n",
    "need to do something because the linear regression model cannot deal with missing values\n",
    "automatically.\n",
    "\n",
    "\n",
    "One option is to drop all the rows that contain at least one missing value. This approach,\n",
    "however, has some disadvantages. Most important, we will lose the information that we have\n",
    "in the other columns. Even though we may not know the number of doors of a car, we still\n",
    "know other things about the car, such as make, model, age, and other things that we don’t\n",
    "want to throw away.\n",
    "\n",
    "\n",
    "The other option is filling the missing values with some other value. This way, we don’t\n",
    "lose the information in other columns and still can make predictions even if the row has\n",
    "missing values. The simplest possible approach is to fill the missing values with zero. We can\n",
    "use the fillna method from Pandas:"
   ]
  },
  {
   "cell_type": "code",
   "execution_count": 38,
   "id": "tutorial-celebration",
   "metadata": {},
   "outputs": [],
   "source": [
    "# set the nulls of the df_num dataframe to zero.\n",
    "df_num = df_num.fillna(0)"
   ]
  },
  {
   "cell_type": "markdown",
   "id": "fewer-scout",
   "metadata": {},
   "source": [
    "This method may not be the best way to deal with missing values, but often, it’s good enough.\n",
    "If we set the missing feature value to zero, the respective feature is simply ignored. \n",
    "\n",
    "**NOTE: An alternative option is to replace the missing values with the average values. For some variables, for\n",
    "example, the number of cylinders, the value of zero doesn’t make much sense: a car cannot have zero\n",
    "cylinders. However, this will make our code more complex, and won’t have a significant impact on the results.**\n",
    "\n",
    "That’s why we follow a simpler approach and replace the missing values with zeros.\n",
    "It’s not difficult to see why setting a feature to zero is the same as ignoring it. Let’s recall the\n",
    "formula for linear regression. In our case, we have five features, so the formula is "
   ]
  },
  {
   "cell_type": "raw",
   "id": "dense-sustainability",
   "metadata": {},
   "source": [
    "place formula here"
   ]
  },
  {
   "cell_type": "markdown",
   "id": "sporting-limit",
   "metadata": {},
   "source": [
    "If feature 3 is missing, and we fill it with zero, 𝑥𝑖3 becomes zero:"
   ]
  },
  {
   "cell_type": "raw",
   "id": "nominated-campbell",
   "metadata": {},
   "source": [
    "place formula here"
   ]
  },
  {
   "cell_type": "markdown",
   "id": "enormous-olive",
   "metadata": {},
   "source": [
    "In this case, regardless of the weight w3 for this feature, the product xi3w3 will always be zero.\n",
    "In other words, this feature will have no contribution to the final prediction, and we will base\n",
    "our prediction only on features that aren’t missing: "
   ]
  },
  {
   "cell_type": "raw",
   "id": "dramatic-tomato",
   "metadata": {},
   "source": [
    "place formula here"
   ]
  },
  {
   "cell_type": "markdown",
   "id": "distributed-jackson",
   "metadata": {},
   "source": [
    "Now we need to convert this dataframe to a NumPy array. The easiest way to do it is to use its\n",
    "values property: "
   ]
  },
  {
   "cell_type": "code",
   "execution_count": 39,
   "id": "endangered-vinyl",
   "metadata": {},
   "outputs": [
    {
     "data": {
      "text/plain": [
       "array([[ 148.,    4.,   33.,   24., 1385.],\n",
       "       [ 132.,    4.,   32.,   25., 2031.],\n",
       "       [ 148.,    4.,   37.,   28.,  640.],\n",
       "       ...,\n",
       "       [ 285.,    6.,   22.,   17.,  549.],\n",
       "       [ 563.,   12.,   21.,   13.,   86.],\n",
       "       [ 200.,    4.,   31.,   22.,  873.]])"
      ]
     },
     "execution_count": 39,
     "metadata": {},
     "output_type": "execute_result"
    }
   ],
   "source": [
    "#  declare a variable name, X_train. set the value to the values of df_num\n",
    "X_train = df_num.values\n",
    "\n",
    "# call the X_train variable \n",
    "X_train"
   ]
  },
  {
   "cell_type": "markdown",
   "id": "ruled-paris",
   "metadata": {},
   "source": [
    "X_train is a matrix — a two-dimensional NumPy array. It’s something we can use as input to\n",
    "our linear_regresson function. Let’s call it:"
   ]
  },
  {
   "cell_type": "code",
   "execution_count": 40,
   "id": "intelligent-bunny",
   "metadata": {},
   "outputs": [
    {
     "data": {
      "text/plain": [
       "(7.927257388070117,\n",
       " array([ 9.70589522e-03, -1.59103494e-01,  1.43792133e-02,  1.49441072e-02,\n",
       "        -9.06908672e-06]))"
      ]
     },
     "execution_count": 40,
     "metadata": {},
     "output_type": "execute_result"
    }
   ],
   "source": [
    "# train the model\n",
    "w_0, w = linear_regression(X_train, y_train) \n",
    "w_0, w"
   ]
  },
  {
   "cell_type": "markdown",
   "id": "electoral-rover",
   "metadata": {},
   "source": [
    "We have just trained the first model! Now we can apply it to the training data to see how well\n",
    "it predicts:"
   ]
  },
  {
   "cell_type": "code",
   "execution_count": 41,
   "id": "affiliated-cincinnati",
   "metadata": {},
   "outputs": [
    {
     "data": {
      "text/plain": [
       "array([ 9.54792783,  9.38733977,  9.67197758, ..., 10.30423015,\n",
       "       11.9778914 ,  9.99863111])"
      ]
     },
     "execution_count": 41,
     "metadata": {},
     "output_type": "execute_result"
    }
   ],
   "source": [
    "y_pred = w_0 + X_train.dot(w) \n",
    "y_pred"
   ]
  },
  {
   "cell_type": "markdown",
   "id": "independent-arizona",
   "metadata": {},
   "source": [
    "To see how good the predictions are, we can use distplot — a function form Seaborn for\n",
    "plotting histograms that we used previously — to plot the predicted values and compare them\n",
    "with the actual prices: "
   ]
  },
  {
   "cell_type": "code",
   "execution_count": 42,
   "id": "surface-latitude",
   "metadata": {},
   "outputs": [
    {
     "name": "stderr",
     "output_type": "stream",
     "text": [
      "C:\\Users\\bizof\\Anaconda3\\envs\\pyvizenv\\lib\\site-packages\\seaborn\\distributions.py:2551: FutureWarning: `distplot` is a deprecated function and will be removed in a future version. Please adapt your code to use either `displot` (a figure-level function with similar flexibility) or `histplot` (an axes-level function for histograms).\n",
      "  warnings.warn(msg, FutureWarning)\n"
     ]
    },
    {
     "data": {
      "text/plain": [
       "<matplotlib.legend.Legend at 0x2767f812b08>"
      ]
     },
     "execution_count": 42,
     "metadata": {},
     "output_type": "execute_result"
    },
    {
     "data": {
      "image/png": "[encoded data removed]",
      "text/plain": [
       "<Figure size 432x288 with 1 Axes>"
      ]
     },
     "metadata": {
      "needs_background": "light"
     },
     "output_type": "display_data"
    }
   ],
   "source": [
    "sns.distplot(y_pred, label='prediction')\n",
    "sns.distplot(y_train, label='target')\n",
    "plt.legend() \n",
    "\n",
    "# sns.displot(y_pred, label='prediction')\n",
    "# sns.displot(y_train, label='target')\n",
    "# plt.legend() \n",
    "\n",
    "# sns.histplot(y_pred, label='prediction')\n",
    "# sns.histplot(y_train, label='target')\n",
    "# plt.legend() \n"
   ]
  },
  {
   "cell_type": "markdown",
   "id": "veterinary-inspector",
   "metadata": {},
   "source": [
    "We can see from the plot (figure 2.14) that the distribution of values we predicted looks quite\n",
    "different from the actual values. This result may indicate that the model is not powerful\n",
    "enough to capture the distribution of the target variable. This shouldn’t be a surprise to us:\n",
    "the model we used is quite basic and includes only five very simple features. "
   ]
  },
  {
   "cell_type": "markdown",
   "id": "infinite-machinery",
   "metadata": {},
   "source": [
    "**Figure 2.14 The distribution of the predicted values (light gray) and the actual values (dark gray). We see that\n",
    "our predictions aren’t quite good; they are very different from the actual distribution.**"
   ]
  },
  {
   "cell_type": "markdown",
   "id": "micro-addition",
   "metadata": {},
   "source": [
    "### 2.4.2 RMSE: evaluating model quality\n",
    "\n",
    "\n",
    "Looking at plots and comparing the distributions of the actual target variable with the\n",
    "predictions is a good way to evaluate quality, but we cannot do this every time we change\n",
    "something in the model. Instead, we need to use a metric that quantifies the quality of the\n",
    "model. We can use many metrics to evaluate how well a regression model behaves. The most\n",
    "commonly used one is root mean squared error — RMSE for short.\n",
    "\n",
    "\n",
    "RMSE tells us how large are the errors that our model makes. It’s computed with the\n",
    "following formula:"
   ]
  },
  {
   "cell_type": "raw",
   "id": "refined-flush",
   "metadata": {},
   "source": [
    "place formula here"
   ]
  },
  {
   "cell_type": "markdown",
   "id": "intended-permission",
   "metadata": {},
   "source": [
    "Let’s try to understand what’s going on here. First, let’s look inside the sum. We have \n"
   ]
  },
  {
   "cell_type": "raw",
   "id": "graduate-montana",
   "metadata": {},
   "source": [
    "place formula here"
   ]
  },
  {
   "cell_type": "markdown",
   "id": "respective-authentication",
   "metadata": {},
   "source": [
    "This is the difference between 𝑔(𝑥𝑖) — the prediction we make for the observation 𝑥𝑖 — and the\n",
    "actual target value 𝑦𝑖 for that observation (figure 2.15). "
   ]
  },
  {
   "cell_type": "raw",
   "id": "annual-composition",
   "metadata": {},
   "source": [
    "place formula here"
   ]
  },
  {
   "cell_type": "markdown",
   "id": "cooperative-cable",
   "metadata": {},
   "source": [
    "**Figure 2.15 The difference between the predictions g(xi) and the actual values yi.**\n",
    "\n",
    "Then we use the square of the difference, which gives a lot more weight to larger differences.\n",
    "If we predict 9.5, for example, and the actual value is 9.6, the difference is 0.1, so its square\n",
    "is 0.01, which is quite small. But if we predict 7.3, and the actual value is 10.3, the difference\n",
    "is 3, and the square of the difference is 9 (figure 2.16). "
   ]
  },
  {
   "cell_type": "raw",
   "id": "annoying-charge",
   "metadata": {},
   "source": [
    "place formula here"
   ]
  },
  {
   "cell_type": "markdown",
   "id": "distributed-melissa",
   "metadata": {},
   "source": [
    "**Figure 2.16 The square of the difference between the predictions and the actual values. For large differences,\n",
    "the square is quite big.**\n",
    "\n",
    "This is the SE part (squared error) of RMSE.\n",
    "Next, we have a sum: "
   ]
  },
  {
   "cell_type": "raw",
   "id": "classified-judges",
   "metadata": {},
   "source": [
    "place formula here"
   ]
  },
  {
   "cell_type": "markdown",
   "id": "patent-assessment",
   "metadata": {},
   "source": [
    "This summation goes over all m observations and puts all the squared errors together (figure\n",
    "2.17) into a single number. "
   ]
  },
  {
   "cell_type": "raw",
   "id": "placed-cabinet",
   "metadata": {},
   "source": [
    "place formula here"
   ]
  },
  {
   "cell_type": "markdown",
   "id": "hungarian-roots",
   "metadata": {},
   "source": [
    "**Figure 2.17 The result of the summation of all the square differences is a single number.**\n",
    "\n",
    "If we divide this sum by 𝑚, we get the mean squared error: "
   ]
  },
  {
   "cell_type": "raw",
   "id": "mathematical-celtic",
   "metadata": {},
   "source": [
    "place formula here"
   ]
  },
  {
   "cell_type": "markdown",
   "id": "unsigned-object",
   "metadata": {},
   "source": [
    "This is the squared error that our model makes on average — the M part (mean) of RMSE, or\n",
    "mean squared error (MSE). MSE is also a good metric on its own (figure 2.18). \n"
   ]
  },
  {
   "cell_type": "raw",
   "id": "dental-fever",
   "metadata": {},
   "source": [
    "place formula here"
   ]
  },
  {
   "cell_type": "markdown",
   "id": "coastal-paragraph",
   "metadata": {},
   "source": [
    "Figure 2.18 MSE is computed by calculating the mean of the squared errors.\n",
    "\n",
    "Finally, we take the square root of that: "
   ]
  },
  {
   "cell_type": "raw",
   "id": "disciplinary-niagara",
   "metadata": {},
   "source": [
    "place formula here"
   ]
  },
  {
   "cell_type": "markdown",
   "id": "stable-emission",
   "metadata": {},
   "source": [
    "This is the R part (root) of RMSE (figure 2.19). "
   ]
  },
  {
   "cell_type": "raw",
   "id": "italic-lottery",
   "metadata": {},
   "source": [
    "place formula here"
   ]
  },
  {
   "cell_type": "markdown",
   "id": "animal-sarah",
   "metadata": {},
   "source": [
    "**Figure 2.19 RMSE: we first compute MSE and then calculate its square root.**\n",
    "\n",
    "When using NumPy to implement RMSE, we can take advantage of vectorization: the process\n",
    "of applying the same operation to all elements of one or more NumPy arrays. We get multiple\n",
    "benefits from using vectorization. First, the code is more concise: we don’t have to write any\n",
    "loops to apply the same operation to each element of the array. Second, vectorized operations\n",
    "are a lot faster than simple Python for loops.\n",
    "Consider the following implementation:"
   ]
  },
  {
   "cell_type": "code",
   "execution_count": 43,
   "id": "brief-sheriff",
   "metadata": {},
   "outputs": [],
   "source": [
    "def rmse(y, y_pred):\n",
    "    error = y_pred - y # A\n",
    "    mse = (error ** 2).mean() # B\n",
    "    return np.sqrt(mse) # C"
   ]
  },
  {
   "cell_type": "markdown",
   "id": "choice-texas",
   "metadata": {},
   "source": [
    "In A, we compute elementwise difference between the vector with predictions and the vector\n",
    "with the target variable. The result is a new NumPy array error that contains the differences.\n",
    "In B, we do two operations in one line: compute the square of each element of the error\n",
    "array and then get the mean value of the result, which gives us MSE. In C, we compute the\n",
    "square root to get RMSE.\n",
    "\n",
    "\n",
    "Elementwise operations in NumPy and Pandas are quite convenient. We can apply an\n",
    "operation to an entire NumPy array (or a Pandas series) without writing loops.\n",
    "\n",
    "\n",
    "In the first line of our rmse function, for example, we compute the difference between the\n",
    "predictions and the actual prices: "
   ]
  },
  {
   "cell_type": "raw",
   "id": "secret-island",
   "metadata": {},
   "source": [
    "error = y_pred - y\n",
    "error"
   ]
  },
  {
   "cell_type": "markdown",
   "id": "practical-ebony",
   "metadata": {},
   "source": [
    "What happens here is that for each element of y_pred, we subtract the corresponding element\n",
    "of y and then put the result to the new array error (figure 2.20). "
   ]
  },
  {
   "cell_type": "raw",
   "id": "clear-miller",
   "metadata": {},
   "source": [
    "place image here"
   ]
  },
  {
   "cell_type": "markdown",
   "id": "working-porter",
   "metadata": {},
   "source": [
    "**Figure 2.20 The elementwise difference between y_pred and y. The result is written to the error array.**\n",
    "\n",
    "Next, we compute the square of each element of the error array and then calculate its mean\n",
    "to get the mean squared error of our model (figure 2.21)."
   ]
  },
  {
   "cell_type": "raw",
   "id": "macro-orchestra",
   "metadata": {},
   "source": [
    "place formula here"
   ]
  },
  {
   "cell_type": "markdown",
   "id": "innocent-brunei",
   "metadata": {},
   "source": [
    "**Figure 2.21 To calculate MSE, we first compute the square of each element in the error array and then compute\n",
    "the mean value of the result.**\n",
    "\n",
    "To see what exactly happens, we need to know that the power operator (**) is also applied\n",
    "elementwise, so the result is another array in which all elements of the original array are\n",
    "squared. When we have this new array with squared elements, we simply compute its mean\n",
    "by using the mean() method (figure 2.22). "
   ]
  },
  {
   "cell_type": "raw",
   "id": "drawn-james",
   "metadata": {},
   "source": [
    "place formula / image here"
   ]
  },
  {
   "cell_type": "markdown",
   "id": "perceived-broadcast",
   "metadata": {},
   "source": [
    "**Figure 2.22 The power operator (\\**) applied elementwise to the error array. The result is another array in which\n",
    "each element is squared. Then we compute the mean of the array with the squared error to compute MSE.**]\n",
    "\n",
    "Finally, we compute the square root of the mean value to get RMSE: "
   ]
  },
  {
   "cell_type": "raw",
   "id": "burning-tennis",
   "metadata": {},
   "source": [
    "np.sqrt(mse) "
   ]
  },
  {
   "cell_type": "markdown",
   "id": "military-project",
   "metadata": {},
   "source": [
    "Now we can use RMSE to evaluate the quality of the model:"
   ]
  },
  {
   "cell_type": "code",
   "execution_count": 43,
   "id": "excellent-engineering",
   "metadata": {},
   "outputs": [
    {
     "data": {
      "text/plain": [
       "0.7554192603920132"
      ]
     },
     "execution_count": 43,
     "metadata": {},
     "output_type": "execute_result"
    }
   ],
   "source": [
    "rmse(y_train, y_pred) "
   ]
  },
  {
   "cell_type": "markdown",
   "id": "tutorial-expression",
   "metadata": {},
   "source": [
    "The code prints 0.75.\n",
    "\n",
    "This number tells us that on average, the model’s predictions are off by 0.75. This result\n",
    "alone may not be very useful, but we can use it to compare this model with other models. If\n",
    "one model has a better (lower) RMSE than the other, it indicates that this model is better. \n",
    "\n",
    "## 2.4.3 Validating the model\n",
    "\n",
    "\n",
    "In the example from the previous section we computed RMSE on the training set. The result is\n",
    "useful to know but doesn’t reflect the way the model will be used later. The model will be used\n",
    "to predict the price of cars that it didn’t see before. For that purpose, we set aside a validation\n",
    "dataset. We intentionally don’t use it for training and keep it for validating the model.\n",
    "\n",
    "\n",
    "We have already split our data into multiple parts: df_train, df_val, and df_test. We\n",
    "have also created a matrix X_train from df_train and used X_train and y_train to train\n",
    "the model. Now we need to do the same steps to get X_val — a matrix with features\n",
    "computed from the validation dataset. Then we can apply the model to X_val to get\n",
    "predictions and compare them with y_val.\n",
    "\n",
    "\n",
    "First, we create the X_val matrix, following the same steps as for X_train:"
   ]
  },
  {
   "cell_type": "code",
   "execution_count": 44,
   "id": "other-salem",
   "metadata": {},
   "outputs": [
    {
     "data": {
      "text/plain": [
       "engine_hp           16\n",
       "engine_cylinders     7\n",
       "highway_mpg          0\n",
       "city_mpg             0\n",
       "popularity           0\n",
       "dtype: int64"
      ]
     },
     "execution_count": 44,
     "metadata": {},
     "output_type": "execute_result"
    }
   ],
   "source": [
    "df_num = df_val[base] \n",
    "df_num.isnull().sum()"
   ]
  },
  {
   "cell_type": "code",
   "execution_count": 45,
   "id": "better-assets",
   "metadata": {},
   "outputs": [
    {
     "data": {
      "text/plain": [
       "engine_hp           0\n",
       "engine_cylinders    0\n",
       "highway_mpg         0\n",
       "city_mpg            0\n",
       "popularity          0\n",
       "dtype: int64"
      ]
     },
     "execution_count": 45,
     "metadata": {},
     "output_type": "execute_result"
    }
   ],
   "source": [
    "df_num = df_num.fillna(0)\n",
    "df_num.isnull().sum()"
   ]
  },
  {
   "cell_type": "code",
   "execution_count": 46,
   "id": "given-bruce",
   "metadata": {},
   "outputs": [
    {
     "data": {
      "text/plain": [
       "array([[2.000e+02, 4.000e+00, 2.500e+01, 1.900e+01, 1.385e+03],\n",
       "       [2.410e+02, 4.000e+00, 2.900e+01, 2.200e+01, 6.170e+02],\n",
       "       [1.600e+02, 4.000e+00, 3.600e+01, 2.600e+01, 5.657e+03],\n",
       "       ...,\n",
       "       [3.320e+02, 8.000e+00, 2.300e+01, 2.000e+01, 1.624e+03],\n",
       "       [1.480e+02, 4.000e+00, 3.400e+01, 2.400e+01, 4.360e+02],\n",
       "       [2.900e+02, 6.000e+00, 2.500e+01, 1.800e+01, 1.720e+03]])"
      ]
     },
     "execution_count": 46,
     "metadata": {},
     "output_type": "execute_result"
    }
   ],
   "source": [
    "X_val = df_num.values \n",
    "X_val"
   ]
  },
  {
   "cell_type": "markdown",
   "id": "homeless-guinea",
   "metadata": {},
   "source": [
    "We’re ready to apply the model to X_val to get predictions:"
   ]
  },
  {
   "cell_type": "code",
   "execution_count": 47,
   "id": "polished-kelly",
   "metadata": {},
   "outputs": [
    {
     "data": {
      "text/plain": [
       "array([ 9.86288014, 10.37013608,  9.69868129, ..., 10.4916625 ,\n",
       "        9.57091361, 10.40022147])"
      ]
     },
     "execution_count": 47,
     "metadata": {},
     "output_type": "execute_result"
    }
   ],
   "source": [
    "y_pred = w_0 + X_val.dot(w) \n",
    "y_pred"
   ]
  },
  {
   "cell_type": "markdown",
   "id": "arbitrary-optimization",
   "metadata": {},
   "source": [
    "The y_pred array contains the predictions for the validation dataset. Now we use y_pred and\n",
    "compare it with the actual prices from y_val, using the RMSE function that we implemented\n",
    "previously: "
   ]
  },
  {
   "cell_type": "code",
   "execution_count": 48,
   "id": "double-research",
   "metadata": {},
   "outputs": [
    {
     "data": {
      "text/plain": [
       "0.7616530991301601"
      ]
     },
     "execution_count": 48,
     "metadata": {},
     "output_type": "execute_result"
    }
   ],
   "source": [
    "rmse(y_val, y_pred) "
   ]
  },
  {
   "cell_type": "markdown",
   "id": "unlikely-geography",
   "metadata": {},
   "source": [
    "The value this code prints is 0.76, which is the number we should use for comparing models.\n",
    "In the code above we already see some duplication: Training and validation tests require\n",
    "the same preprocessing, and we wrote the same code twice. Thus, it makes sense to move\n",
    "this logic to a separate function and avoid duplicating the code.\n",
    "\n",
    "We can call this function prepare_X because it creates a matrix X from a dataframe. "
   ]
  },
  {
   "cell_type": "code",
   "execution_count": 49,
   "id": "tutorial-robinson",
   "metadata": {},
   "outputs": [],
   "source": [
    "def prepare_X(df):\n",
    "    df_num = df[base]\n",
    "    df_num = df_num.fillna(0)\n",
    "    X = df_num.values\n",
    "    return X "
   ]
  },
  {
   "cell_type": "markdown",
   "id": "genetic-damages",
   "metadata": {},
   "source": [
    "Now the whole training and evaluation becomes simpler and looks like this:m"
   ]
  },
  {
   "cell_type": "code",
   "execution_count": 50,
   "id": "enormous-partnership",
   "metadata": {},
   "outputs": [
    {
     "name": "stdout",
     "output_type": "stream",
     "text": [
      "validation: 0.7616530991301601\n"
     ]
    }
   ],
   "source": [
    "# train the model\n",
    "X_train = prepare_X(df_train)\n",
    "w_0, w = linear_regression(X_train, y_train)\n",
    "\n",
    "# apply the model to the validation dataset\n",
    "X_val = prepare_X(df_val)\n",
    "y_pred = w_0 + X_val.dot(w)\n",
    "\n",
    "# compute RMSE on the validation data\n",
    "print('validation:', rmse(y_val, y_pred))"
   ]
  },
  {
   "cell_type": "markdown",
   "id": "imposed-waste",
   "metadata": {},
   "source": [
    "This gives us a way to check whether any model adjustments lead to improvements in the\n",
    "predictive quality of the model. As the next step, let’s add more features and check whether it\n",
    "gets lower RMSE scores. \n",
    "\n",
    "## 2.4.4 Simple feature engineering\n",
    "\n",
    "We already have a simple baseline model with simple features. To improve our model further,\n",
    "we can add more features to the model: we create others and add them to the existing\n",
    "features. As we already know, this process is called feature engineering.\n",
    "Because we have already set up the validation framework, we can easily verify whether\n",
    "adding new features improves the quality of the model. Our aim is to improve the RMSE\n",
    "calculated on the validation data.\n",
    "\n",
    "\n",
    "First, we create a new feature, “age,” from the feature “year.” Age of a car should be very\n",
    "helpful when predicting its price: intuitively, the newer the car, the more expensive it should\n",
    "be.\n",
    "\n",
    "\n",
    "Because the dataset was created in 2017 (which we can verify by checking\n",
    "df_train.year.max()), we can calculate the age by subtracting the year when the car was\n",
    "out from 2017:"
   ]
  },
  {
   "cell_type": "code",
   "execution_count": 51,
   "id": "committed-engagement",
   "metadata": {},
   "outputs": [
    {
     "data": {
      "text/plain": [
       "Index(['make', 'model', 'year', 'engine_fuel_type', 'engine_hp',\n",
       "       'engine_cylinders', 'transmission_type', 'driven_wheels',\n",
       "       'number_of_doors', 'market_category', 'vehicle_size', 'vehicle_style',\n",
       "       'highway_mpg', 'city_mpg', 'popularity'],\n",
       "      dtype='object')"
      ]
     },
     "execution_count": 51,
     "metadata": {},
     "output_type": "execute_result"
    }
   ],
   "source": [
    "df_train.columns"
   ]
  },
  {
   "cell_type": "code",
   "execution_count": 52,
   "id": "virgin-variable",
   "metadata": {},
   "outputs": [
    {
     "name": "stdout",
     "output_type": "stream",
     "text": [
      "Index(['make', 'model', 'year', 'engine_fuel_type', 'engine_hp',\n",
      "       'engine_cylinders', 'transmission_type', 'driven_wheels',\n",
      "       'number_of_doors', 'market_category', 'vehicle_size', 'vehicle_style',\n",
      "       'highway_mpg', 'city_mpg', 'popularity', 'age'],\n",
      "      dtype='object')\n"
     ]
    },
    {
     "data": {
      "text/html": [
       "<div>\n",
       "<style scoped>\n",
       "    .dataframe tbody tr th:only-of-type {\n",
       "        vertical-align: middle;\n",
       "    }\n",
       "\n",
       "    .dataframe tbody tr th {\n",
       "        vertical-align: top;\n",
       "    }\n",
       "\n",
       "    .dataframe thead th {\n",
       "        text-align: right;\n",
       "    }\n",
       "</style>\n",
       "<table border=\"1\" class=\"dataframe\">\n",
       "  <thead>\n",
       "    <tr style=\"text-align: right;\">\n",
       "      <th></th>\n",
       "      <th>make</th>\n",
       "      <th>model</th>\n",
       "      <th>year</th>\n",
       "      <th>engine_fuel_type</th>\n",
       "      <th>engine_hp</th>\n",
       "      <th>engine_cylinders</th>\n",
       "      <th>transmission_type</th>\n",
       "      <th>driven_wheels</th>\n",
       "      <th>number_of_doors</th>\n",
       "      <th>market_category</th>\n",
       "      <th>vehicle_size</th>\n",
       "      <th>vehicle_style</th>\n",
       "      <th>highway_mpg</th>\n",
       "      <th>city_mpg</th>\n",
       "      <th>popularity</th>\n",
       "      <th>age</th>\n",
       "    </tr>\n",
       "  </thead>\n",
       "  <tbody>\n",
       "    <tr>\n",
       "      <th>2735</th>\n",
       "      <td>chevrolet</td>\n",
       "      <td>cobalt</td>\n",
       "      <td>2008</td>\n",
       "      <td>regular_unleaded</td>\n",
       "      <td>148.0</td>\n",
       "      <td>4.0</td>\n",
       "      <td>manual</td>\n",
       "      <td>front_wheel_drive</td>\n",
       "      <td>2.0</td>\n",
       "      <td>NaN</td>\n",
       "      <td>compact</td>\n",
       "      <td>coupe</td>\n",
       "      <td>33</td>\n",
       "      <td>24</td>\n",
       "      <td>1385</td>\n",
       "      <td>9</td>\n",
       "    </tr>\n",
       "    <tr>\n",
       "      <th>6720</th>\n",
       "      <td>toyota</td>\n",
       "      <td>matrix</td>\n",
       "      <td>2012</td>\n",
       "      <td>regular_unleaded</td>\n",
       "      <td>132.0</td>\n",
       "      <td>4.0</td>\n",
       "      <td>automatic</td>\n",
       "      <td>front_wheel_drive</td>\n",
       "      <td>4.0</td>\n",
       "      <td>hatchback</td>\n",
       "      <td>compact</td>\n",
       "      <td>4dr_hatchback</td>\n",
       "      <td>32</td>\n",
       "      <td>25</td>\n",
       "      <td>2031</td>\n",
       "      <td>5</td>\n",
       "    </tr>\n",
       "    <tr>\n",
       "      <th>5878</th>\n",
       "      <td>subaru</td>\n",
       "      <td>impreza</td>\n",
       "      <td>2016</td>\n",
       "      <td>regular_unleaded</td>\n",
       "      <td>148.0</td>\n",
       "      <td>4.0</td>\n",
       "      <td>automatic</td>\n",
       "      <td>all_wheel_drive</td>\n",
       "      <td>4.0</td>\n",
       "      <td>hatchback</td>\n",
       "      <td>compact</td>\n",
       "      <td>4dr_hatchback</td>\n",
       "      <td>37</td>\n",
       "      <td>28</td>\n",
       "      <td>640</td>\n",
       "      <td>1</td>\n",
       "    </tr>\n",
       "    <tr>\n",
       "      <th>11190</th>\n",
       "      <td>volkswagen</td>\n",
       "      <td>vanagon</td>\n",
       "      <td>1991</td>\n",
       "      <td>regular_unleaded</td>\n",
       "      <td>90.0</td>\n",
       "      <td>4.0</td>\n",
       "      <td>manual</td>\n",
       "      <td>rear_wheel_drive</td>\n",
       "      <td>3.0</td>\n",
       "      <td>NaN</td>\n",
       "      <td>large</td>\n",
       "      <td>passenger_minivan</td>\n",
       "      <td>18</td>\n",
       "      <td>16</td>\n",
       "      <td>873</td>\n",
       "      <td>26</td>\n",
       "    </tr>\n",
       "    <tr>\n",
       "      <th>4554</th>\n",
       "      <td>ford</td>\n",
       "      <td>f-150</td>\n",
       "      <td>2017</td>\n",
       "      <td>flex-fuel_(unleaded/e85)</td>\n",
       "      <td>385.0</td>\n",
       "      <td>8.0</td>\n",
       "      <td>automatic</td>\n",
       "      <td>four_wheel_drive</td>\n",
       "      <td>4.0</td>\n",
       "      <td>flex_fuel</td>\n",
       "      <td>large</td>\n",
       "      <td>crew_cab_pickup</td>\n",
       "      <td>21</td>\n",
       "      <td>15</td>\n",
       "      <td>5657</td>\n",
       "      <td>0</td>\n",
       "    </tr>\n",
       "  </tbody>\n",
       "</table>\n",
       "</div>"
      ],
      "text/plain": [
       "             make    model  year          engine_fuel_type  engine_hp  \\\n",
       "2735    chevrolet   cobalt  2008          regular_unleaded      148.0   \n",
       "6720       toyota   matrix  2012          regular_unleaded      132.0   \n",
       "5878       subaru  impreza  2016          regular_unleaded      148.0   \n",
       "11190  volkswagen  vanagon  1991          regular_unleaded       90.0   \n",
       "4554         ford    f-150  2017  flex-fuel_(unleaded/e85)      385.0   \n",
       "\n",
       "       engine_cylinders transmission_type      driven_wheels  number_of_doors  \\\n",
       "2735                4.0            manual  front_wheel_drive              2.0   \n",
       "6720                4.0         automatic  front_wheel_drive              4.0   \n",
       "5878                4.0         automatic    all_wheel_drive              4.0   \n",
       "11190               4.0            manual   rear_wheel_drive              3.0   \n",
       "4554                8.0         automatic   four_wheel_drive              4.0   \n",
       "\n",
       "      market_category vehicle_size      vehicle_style  highway_mpg  city_mpg  \\\n",
       "2735              NaN      compact              coupe           33        24   \n",
       "6720        hatchback      compact      4dr_hatchback           32        25   \n",
       "5878        hatchback      compact      4dr_hatchback           37        28   \n",
       "11190             NaN        large  passenger_minivan           18        16   \n",
       "4554        flex_fuel        large    crew_cab_pickup           21        15   \n",
       "\n",
       "       popularity  age  \n",
       "2735         1385    9  \n",
       "6720         2031    5  \n",
       "5878          640    1  \n",
       "11190         873   26  \n",
       "4554         5657    0  "
      ]
     },
     "execution_count": 52,
     "metadata": {},
     "output_type": "execute_result"
    }
   ],
   "source": [
    "df_train['age'] = 2017 - df_train.year\n",
    "print(df_train.columns)\n",
    "df_train.head()"
   ]
  },
  {
   "cell_type": "markdown",
   "id": "located-shore",
   "metadata": {},
   "source": [
    "This operation is an elementwise operation. We calculate the difference between 2017 and\n",
    "each element of the year series. The result is a new Pandas series containing the differences,\n",
    "which we write back to the dataframe as the age column.\n",
    "\n",
    "\n",
    "We already know that we will need to apply the same preprocessing twice: to the training\n",
    "and validation sets. Because we don’t want to repeat the feature extraction code multiple\n",
    "times, let’s put this logic into the prepare_X function: "
   ]
  },
  {
   "cell_type": "code",
   "execution_count": 53,
   "id": "suffering-administrator",
   "metadata": {},
   "outputs": [],
   "source": [
    "def prepare_X(df):\n",
    "    # create a copy of the input parameter to prevent side effects\n",
    "    df = df.copy()\n",
    "    \n",
    "    # create a copy of the base list with the basic features\n",
    "    features = base.copy()\n",
    "    \n",
    "    # compute the age feature\n",
    "    df['age'] = 2017 - df.year\n",
    "    \n",
    "    # append age to the list of feature names we use for the model\n",
    "    features.append('age')\n",
    "    \n",
    "    # declare a variable named, df_num. set the value to the base columns of df dataframe.\n",
    "    df_num = df[features]\n",
    "    \n",
    "    # replace Nan with zeros\n",
    "    df_num = df_num.fillna(0)\n",
    "    \n",
    "    # declare a variable named, X. set the value to df_num.values.\n",
    "    X = df_num.values\n",
    "    \n",
    "    # return X\n",
    "    return X "
   ]
  },
  {
   "cell_type": "markdown",
   "id": "established-farming",
   "metadata": {},
   "source": [
    "The way we implement the function this time is slightly different from the previous version.\n",
    "Let’s look at these differences. First, in A, we create a copy of the dataframe df that we pass\n",
    "in the function. Later in the code, we modify df by adding extra rows in C. This kind ofbehavior is known as a side effect: the caller of the function may not expect the function to\n",
    "change the dataframe. To prevent the unpleasant the list with the base features for the same\n",
    "reason. Later, we extend this list with new features D, but we don’t want to change the\n",
    "original list. The rest of the code is the same as previously.\n",
    "\n",
    "Let’s test if adding the feature “age” leads to any improvements:"
   ]
  },
  {
   "cell_type": "code",
   "execution_count": 54,
   "id": "removable-float",
   "metadata": {},
   "outputs": [
    {
     "name": "stdout",
     "output_type": "stream",
     "text": [
      "validation: 0.5172055461058335\n"
     ]
    }
   ],
   "source": [
    "#  prepare the training data.\n",
    "X_train = prepare_X(df_train)\n",
    "\n",
    "#  train the model using the training data.\n",
    "w_0, w = linear_regression(X_train, y_train)\n",
    "\n",
    "# prepare the validation data.\n",
    "X_val = prepare_X(df_val)\n",
    "\n",
    "# apply the model to the validation dataset.\n",
    "y_pred = w_0 + X_val.dot(w)\n",
    "\n",
    "# print the rmse\n",
    "print('validation:', rmse(y_val, y_pred)) "
   ]
  },
  {
   "cell_type": "markdown",
   "id": "cubic-programmer",
   "metadata": {},
   "source": [
    "The validation error is 0.517, which is a good improvement from 0.76 — the value we had in\n",
    "the baseline solution. Thus, we conclude that adding “age” is indeed helpful when making\n",
    "predictions.\n",
    "\n",
    "\n",
    "We can also look at the distribution of the predicted values:"
   ]
  },
  {
   "cell_type": "code",
   "execution_count": 55,
   "id": "accessory-prisoner",
   "metadata": {},
   "outputs": [
    {
     "name": "stderr",
     "output_type": "stream",
     "text": [
      "C:\\Users\\bizof\\Anaconda3\\envs\\pyvizenv\\lib\\site-packages\\seaborn\\distributions.py:2551: FutureWarning: `distplot` is a deprecated function and will be removed in a future version. Please adapt your code to use either `displot` (a figure-level function with similar flexibility) or `histplot` (an axes-level function for histograms).\n",
      "  warnings.warn(msg, FutureWarning)\n",
      "C:\\Users\\bizof\\Anaconda3\\envs\\pyvizenv\\lib\\site-packages\\seaborn\\distributions.py:2551: FutureWarning: `distplot` is a deprecated function and will be removed in a future version. Please adapt your code to use either `displot` (a figure-level function with similar flexibility) or `histplot` (an axes-level function for histograms).\n",
      "  warnings.warn(msg, FutureWarning)\n"
     ]
    },
    {
     "data": {
      "text/plain": [
       "<matplotlib.legend.Legend at 0x27602360b48>"
      ]
     },
     "execution_count": 55,
     "metadata": {},
     "output_type": "execute_result"
    },
    {
     "data": {
      "image/png": "[encoded data removed]",
      "text/plain": [
       "<Figure size 432x288 with 1 Axes>"
      ]
     },
     "metadata": {
      "needs_background": "light"
     },
     "output_type": "display_data"
    }
   ],
   "source": [
    "sns.distplot(y_pred, label='prediction')\n",
    "sns.distplot(y_val, label='target')\n",
    "plt.legend() \n",
    "\n",
    "# sns.displot(y_pred, label='prediction')\n",
    "# sns.displot(y_val, label='target')\n",
    "# plt.legend() \n",
    "\n",
    "# sns.histplot(y_pred, label='prediction')\n",
    "# sns.histplot(y_val, label='target')\n",
    "# plt.legend() "
   ]
  },
  {
   "cell_type": "markdown",
   "id": "likely-stress",
   "metadata": {},
   "source": [
    "## 2.4.5 Handling categorical variables\n",
    "\n",
    "\n",
    "We see that adding “age” is quite helpful for the model.\n",
    "\n",
    "\n",
    "Let’s continue adding more features. One of the columns we can use next is the number of\n",
    "doors. This variable appears to be numeric and can take three values: 2, 3, and 4 doors. Even\n",
    "though it’s tempting to put the variable to the model as is, it’s not really a numeric variable:\n",
    "we cannot say that by adding one more door, the price of a car grows (or drops) by a certain\n",
    "amount of money. Rather, the variable is categorical.\n",
    "\n",
    "\n",
    "**Categorical variables describe characteristics of objects and can take one of a few possible\n",
    "values.** The make of a car is a categorical variable, for example; it can be Toyota, BWM, Ford,\n",
    "or any other make. It’s easy to recognize a categorical variable by its values, which typically\n",
    "are strings and not numbers. That’s not always the case, however. The number of doors, for\n",
    "example, is categorical: it can take only one of the three possible values (2, 3, and 4).\n",
    "We can use categorical variables in a machine learning model in multiple ways. One of the\n",
    "simplest ways is to encode such variables by a set of binary features, with a separate feature\n",
    "for each distinct value.\n",
    "\n",
    "\n",
    "In our case, we will create three binary features: num_doors_2, num_doors_3, and\n",
    "num_doors_4. If the car has two doors, num_doors_2 will be set to 1, and the rest will be 0. If\n",
    "the car has three doors, num_doors_3 will get the value 1, and the same goes for\n",
    "num_doors_4. \n",
    "\n",
    "This method of encoding categorical variables is called **one-hot encoding**. We will learn\n",
    "more about this way of encoding categorical variables in chapter 3. For now, let’s choose the simplest way to do this encoding: looping over the possible values (2, 3, and 4) and, for each value, checking whether the value of the observation matches it.\n",
    "Let’s add these lines to the prepare_X function: "
   ]
  },
  {
   "cell_type": "raw",
   "id": "satellite-botswana",
   "metadata": {},
   "source": [
    "   # Iterate over possible values of the “number of doors” variable\n",
    "    for v in [2, 3, 4]: # A \n",
    "        \n",
    "        # Give a feature a meaningful name, such as “num_doors_2” for v=2. \n",
    "        feature = 'num_doors_%s' % v # B\n",
    "        \n",
    "        # Create the one-hot encoding feature. \n",
    "        value = (df['number_of_doors'] == v).astype(int) # C\n",
    "        \n",
    "        # Add the feature back to the dataframe, using the name from B\n",
    "        df[feature] = value #D \n",
    "        features.append(feature) "
   ]
  },
  {
   "cell_type": "markdown",
   "id": "formed-motel",
   "metadata": {},
   "source": [
    "This code may be difficult to understand, so let’s take a closer look at what’s going on here.\n",
    "The most difficult line is C:"
   ]
  },
  {
   "cell_type": "raw",
   "id": "independent-catholic",
   "metadata": {},
   "source": [
    "(df['number_of_doors'] == v).astype(int) "
   ]
  },
  {
   "cell_type": "markdown",
   "id": "indian-picture",
   "metadata": {},
   "source": [
    "Two things happen here. The first one is the expression inside the parentheses, where we use the equals (==) operator. This operation is also an elementwise operation, like the ones we used previously when computing RMSE. In this case, the operation creates a new Pandas series. If elements of the original series equal v, the corresponding elements in the result is True; the elements are False otherwise. The operation creates a series of True/False values. Because v has three values (2, 3, and 4), and we apply this operation to every value of v.\n",
    "\n",
    "Next, we convert the Boolean series to integers in such a way that True becomes 1 and False\n",
    "becomes 0, which is easy to do with the astype(int) method (figure 2.25). Now we can use\n",
    "the results as features and put them into linear regression.\n",
    "\n",
    "The number of doors, as we discussed, is a categorical variable that appears to be numerical\n",
    "because the values are integers (2, 3 and 4). All the remaining categorical variables we have\n",
    "in the dataset are strings.\n",
    "We can use the same approach to encode other categorical variables. Let’s start with\n",
    "make. For our purposes, it should be enough to get and use only the most frequently\n",
    "occurring values. Let’s find out what the five most frequent values are:"
   ]
  },
  {
   "cell_type": "code",
   "execution_count": 56,
   "id": "sustained-monaco",
   "metadata": {},
   "outputs": [
    {
     "data": {
      "text/plain": [
       "chevrolet     1123\n",
       "ford           881\n",
       "volkswagen     809\n",
       "toyota         746\n",
       "dodge          626\n",
       "Name: make, dtype: int64"
      ]
     },
     "execution_count": 56,
     "metadata": {},
     "output_type": "execute_result"
    }
   ],
   "source": [
    "df['make'].value_counts().head(5) "
   ]
  },
  {
   "cell_type": "markdown",
   "id": "waiting-delivery",
   "metadata": {},
   "source": [
    "We take these values and use them to encode make in the same way that we encoded the number of doors. We create five new variables called is_make_chevrolet, is_make_ford, is_make_volkswagen, is_make_toyota, and is_make_dodge: "
   ]
  },
  {
   "cell_type": "raw",
   "id": "known-party",
   "metadata": {},
   "source": [
    "for v in ['chevrolet', 'ford', 'volkswagen', 'toyota', 'dodge']:\n",
    "    feature = 'is_make_%s' % v\n",
    "    df[feature] = (df['make'] == v).astype(int)\n",
    "    features.append(feature) "
   ]
  },
  {
   "cell_type": "markdown",
   "id": "cardiac-somalia",
   "metadata": {},
   "source": [
    "Now the whole prepare_X should look like the following:"
   ]
  },
  {
   "cell_type": "code",
   "execution_count": 57,
   "id": "magnetic-tumor",
   "metadata": {},
   "outputs": [],
   "source": [
    "def prepare_X(df):\n",
    "    # create a copy of the input parameter to prevent side effects\n",
    "    df = df.copy()\n",
    "    \n",
    "    # create a copy of the base list with the basic features\n",
    "    features = base.copy()\n",
    "    \n",
    "    # compute the age feature\n",
    "    df['age'] = 2017 - df.year\n",
    "    \n",
    "    # append age to the list of feature names we use for the model\n",
    "    features.append('age')\n",
    "    \n",
    "    # encode the “number of doors” variable\n",
    "    # Iterate over possible values of the “number of doors” variable\n",
    "    for v in [2, 3, 4]: # A \n",
    "        \n",
    "        # Give a feature a meaningful name, such as “num_doors_2” for v=2. \n",
    "        feature = 'num_doors_%s' % v # B\n",
    "        \n",
    "        # Create the one-hot encoding feature. \n",
    "        value = (df['number_of_doors'] == v).astype(int) # C\n",
    "        \n",
    "        # Add the feature back to the dataframe, using the name from B\n",
    "        df[feature] = value #D \n",
    "        features.append(feature) \n",
    "        \n",
    "    # encode the “make” variable\n",
    "    # Iterate over possible values of the “make” variable\n",
    "    for v in ['chevrolet', 'ford', 'volkswagen', 'toyota', 'dodge']:\n",
    "        \n",
    "         # Give a feature a meaningful name, such as 'is_make_toyota' for v='toyota'.\n",
    "        feature = 'is_make_%s' % v\n",
    "        \n",
    "        # Add the feature back to the dataframe, using the feature variable\n",
    "        df[feature] = (df['make'] == v).astype(int)\n",
    "        features.append(feature)\n",
    "        \n",
    "    # declare a variable named, df_num. set the value to the base columns of df dataframe.\n",
    "    df_num = df[features]\n",
    "    \n",
    "    # replace Nan with zeros\n",
    "    df_num = df_num.fillna(0)\n",
    "    \n",
    "    # declare a variable named, X. set the value to df_num.values.\n",
    "    X = df_num.values\n",
    "    \n",
    "    # return X\n",
    "    return X "
   ]
  },
  {
   "cell_type": "markdown",
   "id": "express-newspaper",
   "metadata": {},
   "source": [
    "Let’s check whether this code improves the RMSE of the model: "
   ]
  },
  {
   "cell_type": "code",
   "execution_count": 58,
   "id": "hawaiian-figure",
   "metadata": {},
   "outputs": [
    {
     "data": {
      "text/plain": [
       "array([ 3.45701060e-03,  9.17408538e-02, -6.18372418e-03,  1.23571673e-02,\n",
       "       -2.89616609e-05, -9.51811382e-02, -1.25096146e+00, -1.46396979e+00,\n",
       "       -1.29539677e+00, -1.95721851e-01, -7.92361383e-02,  2.88307619e-02,\n",
       "       -2.87389672e-01, -2.83585754e-01])"
      ]
     },
     "execution_count": 58,
     "metadata": {},
     "output_type": "execute_result"
    }
   ],
   "source": [
    "# prepare the training data\n",
    "X_train = prepare_X(df_train)\n",
    "\n",
    "# train the model using training data\n",
    "w_0, w = linear_regression(X_train, y_train)\n",
    "w"
   ]
  },
  {
   "cell_type": "code",
   "execution_count": 59,
   "id": "constant-grounds",
   "metadata": {},
   "outputs": [
    {
     "name": "stdout",
     "output_type": "stream",
     "text": [
      "validation: 0.5076038849557034\n"
     ]
    }
   ],
   "source": [
    "# prepare the validation data\n",
    "X_val = prepare_X(df_val)\n",
    "\n",
    "# apply the model to the validation dataset.\n",
    "y_pred = w_0 + X_val.dot(w)\n",
    "\n",
    "# print the rmse\n",
    "print('validation:', rmse(y_val, y_pred)) "
   ]
  },
  {
   "cell_type": "markdown",
   "id": "surprising-blink",
   "metadata": {},
   "source": [
    "The previous value was 0.517, so we managed to improve the RMSE score further.\n",
    "We can use a few more variables: “engine_fuel_type”, “transmission_type”,\n",
    "“driven_wheels”, “market_category”, “vehicle_size”, and “vehicle_style”. Let’s do the same\n",
    "thing for them. After the modifications, the prepare_X starts looking a bit more complex."
   ]
  },
  {
   "cell_type": "code",
   "execution_count": 60,
   "id": "aware-cleaner",
   "metadata": {},
   "outputs": [],
   "source": [
    "def prepare_X(df):\n",
    "    # create a copy of the input parameter to prevent side effects\n",
    "    df = df.copy()\n",
    "    \n",
    "    # create a copy of the base list with the basic features\n",
    "    features = base.copy()\n",
    "    \n",
    "    # compute the age feature\n",
    "    df['age'] = 2017 - df.year\n",
    "    \n",
    "    # append age to the list of feature names we use for the model\n",
    "    features.append('age')\n",
    "    \n",
    "    # encode the “number of doors” variable\n",
    "    # Iterate over possible values of the “number of doors” variable\n",
    "    for v in [2, 3, 4]: # A \n",
    "        \n",
    "        # Give a feature a meaningful name, such as “num_doors_2” for v=2. \n",
    "        feature = 'num_doors_%s' % v # B\n",
    "        \n",
    "        # Create the one-hot encoding feature. \n",
    "        value = (df['number_of_doors'] == v).astype(int) # C\n",
    "        \n",
    "        # Add the feature back to the dataframe, using the name from B\n",
    "        df[feature] = value #D \n",
    "        features.append(feature) \n",
    "        \n",
    "    # encode the “make” variable\n",
    "    # Iterate over possible values of the “make” variable\n",
    "    for v in ['chevrolet', 'ford', 'volkswagen', 'toyota', 'dodge']:\n",
    "        \n",
    "        # Give a feature a meaningful name, such as 'is_make_toyota' for v='toyota'.\n",
    "        feature = 'is_make_%s' % v\n",
    "        \n",
    "        # Add the one-hot encoding feature to the dataframe, using the feature variable\n",
    "        df[feature] = (df['make'] == v).astype(int)\n",
    "        features.append(feature)\n",
    "        \n",
    "        \n",
    "    #\n",
    "    # encode the “engine_fuel_type” variable\n",
    "    # Iterate over possible values of the “engine_fuel_type” variable\n",
    "    for v in ['regular_unleaded', 'premium_unleaded_(required)','premium_unleaded_(recommended)','flex-fuel_(unleaded/e85)']: #A\n",
    "        \n",
    "        # Give a feature a meaningful name, such as 'is_type_premium_unleaded_required' for v='premium_unleaded_required'.\n",
    "        feature = 'is_type_%s' % v\n",
    "        \n",
    "        # Add the one-hot encoding feature to the dataframe, using the feature variable\n",
    "        df[feature] = (df['engine_fuel_type'] == v).astype(int)\n",
    "        features.append(feature)\n",
    "    \n",
    "    # encode the “transmission_type” variable\n",
    "    # Iterate over possible values of the “transmission_type” variable\n",
    "    for v in ['automatic', 'manual', 'automated_manual']: #B\n",
    "        \n",
    "        # Give a feature a meaningful name, such as 'is_transmission_manual' for v='manual'.\n",
    "        feature = 'is_transmission_%s' % v\n",
    "        \n",
    "        # Add the one-hot encoding feature to the dataframe, using the feature variable\n",
    "        df[feature] = (df['transmission_type'] == v).astype(int)\n",
    "        features.append(feature)\n",
    "    \n",
    "    # encode the “driven_wheels” variable\n",
    "    # Iterate over possible values of the “driven_wheels” variable\n",
    "    for v in ['front_wheel_drive', 'rear_wheel_drive','all_wheel_drive', 'four_wheel_drive']: #C\n",
    "        \n",
    "        # Give a feature a meaningful name, such as 'is_driven_wheels_rear_wheel_drive' for v='rear_wheel_drive'.\n",
    "        feature = 'is_driven_wheels_%s' % v\n",
    "        \n",
    "        # Add the one-hot encoding feature to the dataframe, using the feature variable\n",
    "        df[feature] = (df['driven_wheels'] == v).astype(int)\n",
    "        features.append(feature)\n",
    "    \n",
    "    # encode the “market_category” variable\n",
    "    # Iterate over possible values of the “market_category” variable\n",
    "    for v in ['crossover', 'flex_fuel', 'luxury','luxury,performance', 'hatchback']: #D\n",
    "        \n",
    "        # Give a feature a meaningful name, such as 'is_mc_luxury' for v='luxury'.\n",
    "        feature = 'is_mc_%s' % v\n",
    "        \n",
    "        # Add the one-hot encoding feature to the dataframe, using the feature variable\n",
    "        df[feature] = (df['market_category'] == v).astype(int)\n",
    "        features.append(feature)\n",
    "    \n",
    "    # encode the “vehicle_size” variable\n",
    "    # Iterate over possible values of the “vehicle_size” variable\n",
    "    for v in ['compact', 'midsize', 'large']: #E\n",
    "        \n",
    "        # Give a feature a meaningful name, such as 'is_size_midsize' for v='midsize'.\n",
    "        feature = 'is_size_%s' % v\n",
    "        \n",
    "        # Add the one-hot encoding feature to the dataframe, using the feature variable\n",
    "        df[feature] = (df['vehicle_size'] == v).astype(int)\n",
    "        features.append(feature)\n",
    "    \n",
    "    # encode the “vehicle_style” variable\n",
    "    # Iterate over possible values of the “vehicle_style” variable\n",
    "    for v in ['sedan', '4dr_suv', 'coupe', 'convertible','4dr_hatchback']: #F\n",
    "        \n",
    "        # Give a feature a meaningful name, such as 'is_style_coupe' for v='coupe'.\n",
    "        feature = 'is_style_%s' % v\n",
    "        \n",
    "        # Add the one-hot encoding feature to the dataframe, using the feature variable\n",
    "        df[feature] = (df['vehicle_style'] == v).astype(int)\n",
    "        features.append(feature)\n",
    "    \n",
    "    #\n",
    "    \n",
    "    # declare a variable named, df_num. set the value to the base columns of df dataframe.\n",
    "    df_num = df[features]\n",
    "    \n",
    "    # replace Nan with zeros\n",
    "    df_num = df_num.fillna(0)\n",
    "    \n",
    "    # declare a variable named, X. set the value to df_num.values.\n",
    "    X = df_num.values\n",
    "    \n",
    "    # return X\n",
    "    return X"
   ]
  },
  {
   "cell_type": "code",
   "execution_count": 61,
   "id": "annoying-explanation",
   "metadata": {},
   "outputs": [
    {
     "name": "stdout",
     "output_type": "stream",
     "text": [
      "validation: 830.8920785817741\n"
     ]
    }
   ],
   "source": [
    "# prepare the training data\n",
    "X_train = prepare_X(df_train)\n",
    "\n",
    "# train the model using training data\n",
    "w_0, w = linear_regression(X_train, y_train)\n",
    "\n",
    "# prepare the validation data\n",
    "X_val = prepare_X(df_val) \n",
    "\n",
    "# apply the model to X_val \n",
    "y_pred = w_0 + X_val.dot(w) \n",
    "\n",
    "# print the rmse\n",
    "print('validation:', rmse(y_val, y_pred)) "
   ]
  },
  {
   "cell_type": "markdown",
   "id": "broke-father",
   "metadata": {},
   "source": [
    "The number we see is significantly worse than before. We get 34.2, which is a lot more than\n",
    "the 0.5 we had before.\n",
    "NOTE: The number you get may be different, depending on the Python version, NumPy version, the versions\n",
    "of NumPy dependencies, OS, and other factors. But the jump in the validation metric from 0.5 to something\n",
    "significantly bigger should always alert us.\n",
    "Instead of helping, the new features made the score a lot worse. Luckily, we have validation to\n",
    "help us spot this problem. In the next section, we will see why it happens and how to deal\n",
    "with it.\n",
    "\n",
    "## 2.4.6 Regularization\n",
    "\n",
    "\n",
    "We saw that adding new features does not always help, and in our case, it made things a lot\n",
    "worse. The reason for this behavior is numerical instability. Recall the formula of the normal\n",
    "equation:\n",
    "\n",
    "\n",
    "One of the terms in the equation is the inverse of the XTX matrix:\n",
    "The inversion is the issue in our case. Sometimes, when adding new columns to X, we can\n",
    "accidentally add a column that is a combination of other columns. For example, if we already\n",
    "have the mpg in the city feature and decide to add kilometers per liter in the city, the second\n",
    "feature is the same as the first one but multiplied by a constant.\n",
    "\n",
    "\n",
    "When this happens, XTX becomes undetermined or singular, which means that it’s not\n",
    "possible to find an inverse for this matrix. If we try to invert a singular matrix, NumPy will tell\n",
    "us about that by raising a LinAlgError:\n",
    "\n",
    "Our code didn’t raise any exceptions, however. It happened because we don’t typically have\n",
    "columns that are perfect linear combinations of other columns. The real data is often noisy,\n",
    "with measurement errors (such as recording 1.3 instead of 13 for mpg), rounding errors (such\n",
    "as storing 0.0999999 instead of 0.1), and many other errors. Technically, such matrices are\n",
    "not singular, so NumPy doesn’t complain.\n",
    "\n",
    "\n",
    "For this reason, however, some of the values in the weights become extremely large — a\n",
    "lot larger than they are supposed to be.\n",
    "\n",
    "\n",
    "If we look at the values of our w0 and w, we see that this is indeed the case. The bias term\n",
    "w0 has the value 5788519290303866.0, for example (the value may vary depending on the\n",
    "machine, OS, and version of NumPy), and a few components of w have extremely large\n",
    "negative values as well.\n",
    "\n",
    "\n",
    "In numerical linear algebra, such issues are called numerical instability issues, and they\n",
    "are typically solved with regularization techniques. The aim of regularization is to make sure\n",
    "that the inverse exists by forcing the matrix to be invertible. Regularization is an important\n",
    "concept in machine learning: it means “controlling” — controlling the weights of the model so\n",
    "that they behave correctly and don’t grow too large, as in our case.\n",
    "\n",
    "One way to do regularization is to add a small number to each diagonal element of the\n",
    "matrix. Then we get the following formula for linear regression:\n",
    "\n",
    "\n",
    "NOTE: Regularized linear regression is often called ridge regression. Many libraries, including scikit-learn, use\n",
    "ridge to refer to regularized linear regression and linear regression to refer to the unregularized model.\n",
    "\n",
    "\n",
    "Let’s look at the part that changed: the matrix that we need to invert. This is how it looks:\n",
    "This formula says that we need I — an identity matrix, which is a matrix with ones on the\n",
    "main diagonal and zeros everywhere else. We multiply this identity matrix by a number α. This\n",
    "way, all the ones on the diagonal of I become α. Then we sum αI and XTX, which adds α to all\n",
    "the diagonal elements of XTX.\n",
    "\n",
    "\n",
    "This formula can directly translate to NumPy code:\n",
    "\n",
    "XTX = X_train.T.dot(X_train)\n",
    "\n",
    "XTX = XTX + 0.01 * np.eye(XTX.shape[0])\n",
    "\n",
    "\n",
    "The np.eye function creates a two-dimensional NumPy array that is also an identity matrix.\n",
    "When we multiply by 0.01, the ones on the diagonal become 0.01, so when we add this matrix\n",
    "to XTX, we add only 0.01 to its main diagonal (figure 2.26). \n",
    "\n",
    "Let’s create a new function that uses this idea and implements linear regression with\n",
    "regularization. \n"
   ]
  },
  {
   "cell_type": "code",
   "execution_count": 62,
   "id": "centered-stanford",
   "metadata": {},
   "outputs": [],
   "source": [
    "# Control the amount of regularization by using the parameter r.\n",
    "def linear_regression_reg(X, y, r=0.0): #A\n",
    "    ones = np.ones(X.shape[0])\n",
    "    X = np.column_stack([ones, X])\n",
    "    XTX = X.T.dot(X)\n",
    "    \n",
    "    # Add r to the main diagonal of XTX. \n",
    "    reg = r * np.eye(XTX.shape[0]) #B\n",
    "    XTX = XTX + reg #B\n",
    "    XTX_inv = np.linalg.inv(XTX)\n",
    "    w = XTX_inv.dot(X.T).dot(y)\n",
    "    return w[0], w[1:] "
   ]
  },
  {
   "cell_type": "markdown",
   "id": "joined-program",
   "metadata": {},
   "source": [
    "The function is very similar to linear regression, but a few lines are different. First, there’s an\n",
    "extra parameter r that controls the amount of regularization — this corresponds to the\n",
    "number α in the formula that we add to the main diagonal of XTX.\n",
    "\n",
    "\n",
    "Regularization affects the final solution by making the components of w smaller. We can\n",
    "see that the more regularization we add, the smaller the weights become.\n",
    "\n",
    "\n",
    "Let’s check what happens with our weights for different values of r:"
   ]
  },
  {
   "cell_type": "code",
   "execution_count": 63,
   "id": "latin-making",
   "metadata": {},
   "outputs": [
    {
     "name": "stdout",
     "output_type": "stream",
     "text": [
      "    0, -694700695602717184.00, 278.96, 694700695602667008.00\n",
      "0.001, 7.19, -0.10, 1.81\n",
      " 0.01, 7.18, -0.10, 1.81\n",
      "  0.1, 7.05, -0.10, 1.78\n",
      "    1, 6.22, -0.10, 1.56\n",
      "   10, 4.39, -0.09, 1.08\n"
     ]
    }
   ],
   "source": [
    "for r in [0, 0.001, 0.01, 0.1, 1, 10]:\n",
    "    w_0, w = linear_regression_reg(X_train, y_train, r=r)\n",
    "    print('%5s, %.2f, %.2f, %.2f' % (r, w_0, w[13], w[21]))"
   ]
  },
  {
   "cell_type": "markdown",
   "id": "reliable-hypothesis",
   "metadata": {},
   "source": [
    "We start with 0, which is an unregularized solution, and get very large numbers. Then we try\n",
    "0.001 and increase it by 10 times on each step: 0.01, 0.1, 1, and 10. We see that the values\n",
    "that we selected become smaller as r grows.\n",
    "\n",
    "\n",
    "Now let’s check whether regularization helps with our problem and what RMSE we get after\n",
    "that. Let’s run it with r=0.001: "
   ]
  },
  {
   "cell_type": "code",
   "execution_count": 64,
   "id": "foreign-subscription",
   "metadata": {},
   "outputs": [
    {
     "name": "stdout",
     "output_type": "stream",
     "text": [
      "validation: 0.46022676266043516\n"
     ]
    }
   ],
   "source": [
    "X_train = prepare_X(df_train)\n",
    "w_0, w = linear_regression_reg(X_train, y_train, r=0.001)\n",
    "X_val = prepare_X(df_val)\n",
    "y_pred = w_0 + X_val.dot(w)\n",
    "print('validation:', rmse(y_val, y_pred)) "
   ]
  },
  {
   "cell_type": "markdown",
   "id": "conservative-bundle",
   "metadata": {},
   "source": [
    "This result is an improvement over the previous score: 0.507\n",
    "\n",
    "NOTE: Sometimes, when adding a new feature causes performance degradation, simply removing this\n",
    "feature may be enough to solve the problem. Having a validation dataset is important to decide whether to\n",
    "add regularization, remove the feature, or do both: we use the score on the validation data to choose the best\n",
    "option. In our particular case we see that adding regularization helps: it improves the score we had previously.\n",
    "\n",
    "\n",
    "We tried using r=0.001, but we should try other values as well. Let’s run a grid search to\n",
    "select the best parameter r: "
   ]
  },
  {
   "cell_type": "code",
   "execution_count": 65,
   "id": "adjustable-bidder",
   "metadata": {},
   "outputs": [
    {
     "name": "stdout",
     "output_type": "stream",
     "text": [
      " 1e-06 0.4602255729429436\n",
      "0.0001 0.4602254945347706\n",
      " 0.001 0.46022676266043516\n",
      "  0.01 0.46023949632611183\n",
      "   0.1 0.46037006958137333\n",
      "     1 0.4618298042653896\n",
      "     5 0.4684079627533808\n",
      "    10 0.4757248100693528\n"
     ]
    }
   ],
   "source": [
    "X_train = prepare_X(df_train)\n",
    "X_val = prepare_X(df_val)\n",
    "for r in [0.000001, 0.0001, 0.001, 0.01, 0.1, 1, 5, 10]:\n",
    "    w_0, w = linear_regression_reg(X_train, y_train, r=r)\n",
    "    y_pred = w_0 + X_val.dot(w)\n",
    "    print('%6s' %r, rmse(y_val, y_pred)) "
   ]
  },
  {
   "cell_type": "markdown",
   "id": "neural-guarantee",
   "metadata": {},
   "source": [
    "We see that the best performance is achieved with a smaller r: \n",
    "    \n",
    "We also notice that the performance for values below 0.1 don’t change much except in the\n",
    "sixth digit, which we shouldn’t consider to be significant.\n",
    "\n",
    "\n",
    "Let’s take the model with r=0.01 as the final model. Now we can check it against the test\n",
    "dataset to verify if the model works:"
   ]
  },
  {
   "cell_type": "code",
   "execution_count": 66,
   "id": "danish-karaoke",
   "metadata": {},
   "outputs": [
    {
     "name": "stdout",
     "output_type": "stream",
     "text": [
      "validation: 0.46023949632611183\n",
      "test: 0.4571813679692604\n"
     ]
    }
   ],
   "source": [
    "X_train = prepare_X(df_train)\n",
    "w_0, w = linear_regression_reg(X_train, y_train, r=0.01)\n",
    "X_val = prepare_X(df_val)\n",
    "y_pred = w_0 + X_val.dot(w)\n",
    "print('validation:', rmse(y_val, y_pred))\n",
    "X_test = prepare_X(df_test)\n",
    "y_pred = w_0 + X_test.dot(w)\n",
    "print('test:', rmse(y_test, y_pred))"
   ]
  },
  {
   "cell_type": "markdown",
   "id": "separated-miracle",
   "metadata": {},
   "source": [
    "Because these two numbers are pretty close, we conclude that the model can generalize well\n",
    "to the new unseen data. \n",
    "\n",
    "## Exercise 2.4\n",
    "\n",
    "\n",
    "Regularization is needed because\n",
    "\n",
    "\n",
    "a) It can control the weights of the model and not let them grow too large\n",
    "b) The real-world data is noisy\n",
    "c) We often have numerical instability problems\n",
    "\n",
    "\n",
    "## 2.4.7 (Multiple answers are possible)Using the model\n",
    "\n",
    "\n",
    "As we now have a model, we can start using it for predicting the price of a car.\n",
    "Suppose that a user posts the following ad on our website: "
   ]
  },
  {
   "cell_type": "code",
   "execution_count": 67,
   "id": "fallen-graham",
   "metadata": {},
   "outputs": [],
   "source": [
    "ad = {\n",
    "    'city_mpg': 18,\n",
    "    'driven_wheels': 'all_wheel_drive',\n",
    "    'engine_cylinders': 6.0,\n",
    "    'engine_fuel_type': 'regular_unleaded',\n",
    "    'engine_hp': 268.0,\n",
    "    'highway_mpg': 25,\n",
    "    'make': 'toyota',\n",
    "    'market_category': 'crossover,performance',\n",
    "    'model': 'venza',\n",
    "    'number_of_doors': 4.0,\n",
    "    'popularity': 2031,\n",
    "    'transmission_type': 'automatic',\n",
    "    'vehicle_size': 'midsize',\n",
    "    'vehicle_style': 'wagon',\n",
    "    'year': 2013\n",
    "} \n",
    "\n",
    "ad2 = {    \n",
    "    'city_mpg': 22,\n",
    "    'driven_wheels': 'all_wheel_drive',\n",
    "    'engine_cylinders': 4.0,\n",
    "    'engine_fuel_type': 'regular_unleaded',\n",
    "    'engine_hp': 168,\n",
    "    'highway_mpg': 30,\n",
    "    'make': 'ford',\n",
    "    'market_category': 'crossover',\n",
    "    'model': 'escape',\n",
    "    'number_of_doors': 4.0,\n",
    "    'popularity': 5657,\n",
    "    'transmission_type': 'automatic',\n",
    "    'vehicle_size': 'compact',\n",
    "    'vehicle_style': '4dr_suv',\n",
    "    'year': 2008\n",
    "}"
   ]
  },
  {
   "cell_type": "markdown",
   "id": "secure-pepper",
   "metadata": {},
   "source": [
    "We’d like to suggest the price for this car. For that, we use our model:"
   ]
  },
  {
   "cell_type": "code",
   "execution_count": 68,
   "id": "offensive-stomach",
   "metadata": {},
   "outputs": [],
   "source": [
    "df_test = pd.DataFrame([ad2])\n",
    "X_test = prepare_X(df_test) "
   ]
  },
  {
   "cell_type": "markdown",
   "id": "peripheral-uniform",
   "metadata": {},
   "source": [
    "First, we create a small dataframe with one row. This row contains all the values of the ad\n",
    "dictionary we created earlier. Next, we convert this dataframe to a matrix.\n",
    "Now we can apply our model to the matrix to predict the price of this car:"
   ]
  },
  {
   "cell_type": "code",
   "execution_count": 69,
   "id": "activated-operator",
   "metadata": {},
   "outputs": [],
   "source": [
    "y_pred = w_0 + X_test.dot(w) "
   ]
  },
  {
   "cell_type": "markdown",
   "id": "printable-baker",
   "metadata": {},
   "source": [
    "This prediction is not the final price, however; it's the logarithm of the price. To get the actual\n",
    "price, we need to undo the logarithm and apply the exponent function:"
   ]
  },
  {
   "cell_type": "code",
   "execution_count": 70,
   "id": "authentic-universal",
   "metadata": {},
   "outputs": [
    {
     "data": {
      "text/plain": [
       "array([14131.94986182])"
      ]
     },
     "execution_count": 70,
     "metadata": {},
     "output_type": "execute_result"
    }
   ],
   "source": [
    "# suggestion = np.expm1(y_pred)\n",
    "\n",
    "# OR\n",
    "\n",
    "suggestion = np.exp(y_pred)\n",
    "suggestion "
   ]
  },
  {
   "cell_type": "markdown",
   "id": "varying-adelaide",
   "metadata": {},
   "source": [
    "The output is 28,294.13. The real price of this car is $31,120, so our model is not far from the\n",
    "actual price. \n",
    "\n",
    "## 2.5 Next steps\n",
    "\n",
    "\n",
    "## 2.5.1 Exercises\n",
    "\n",
    "\n",
    "There are a few other things you can try to make the model better. For example,\n",
    "\n",
    "\n",
    "* Try more feature engineering. When implementing category encoding, we included only\n",
    "the top five values for each categorical variable. Including more values during the\n",
    "encoding process might improve the model. Try doing that, and re-evaluate the quality\n",
    "of the model in terms of RMSE.\n",
    "\n",
    "\n",
    "* Write a function for binary encoding. In this chapter we implemented the category\n",
    "encoding manually: we looked at the top five values, wrote them in a list, and then\n",
    "looped over the list to create binary features. Doing it this way is cumbersome, which is\n",
    "why it’s a good idea to write a function that will do this automatically. It should have\n",
    "multiple arguments: the dataframe, the name of the categorical variable and the\n",
    "number of most frequent values it should consider. This function should also help us do\n",
    "the previous exercise.\n",
    "\n",
    "\n",
    "## 2.5.2 Other projects\n",
    "\n",
    "\n",
    "There are other projects you can do now:\n",
    "\n",
    "\n",
    "* Predict the price of a house. You can take the Boston house prices dataset from\n",
    "https://www.kaggle.com/vikrishnan/boston-house-prices or https://scikitlearn.org/stable/modules/generated/sklearn.datasets.load_boston.html\n",
    "\n",
    "\n",
    "* Check other datasets, such as https://archive.ics.uci.edu/ml/datasets.php?task=reg,\n",
    "that have numerical target values. For example, we can use the data from the student\n",
    "performance dataset (http://archive.ics.uci.edu/ml/datasets/Student+Performance) to\n",
    "train a model for determining the performance of students.\n",
    "\n",
    "\n",
    "## 2.6 Summary\n",
    "\n",
    "\n",
    "* Doing simple initial exploratory analysis is important. Among other things, it helps us\n",
    "find out whether the data has missing values. It’s not possible to train a linear\n",
    "regression model when there are missing values, so it’s important to check our data\n",
    "and fill in the missing values if necessary.\n",
    "\n",
    "\n",
    "* As a part of exploratory data analysis, we need to check the distribution of the target\n",
    "variable. If the target distribution has a long tail, we need to apply the log\n",
    "transformation. Without it, we may get inaccurate and misleading predictions from the\n",
    "linear regression model.\n",
    "\n",
    "\n",
    "* The train/validation/test split is the best way to check our models. It gives us a way to\n",
    "measure the performance of the model reliably, and things like numerical instability issues won’t go unnoticed.\n",
    "\n",
    "\n",
    "* The linear regression model is based on a simple mathematical formula, and\n",
    "understanding this formula is the key to successful application of the model. Knowing\n",
    "these details helps us learn how the model works before coding it.\n",
    "\n",
    "\n",
    "* It’s not difficult to implement linear regression from scratch, using Python and NumPy.\n",
    "Doing so helps us understand that there's no magic behind machine learning: it’s\n",
    "simple math translated to code.\n",
    "\n",
    "\n",
    "* RMSE gives us a way to measure the predictive performance of our model on the\n",
    "validation set. It lets us confirm that the model is good and helps us compare multiple\n",
    "models to find the best one.\n",
    "\n",
    "\n",
    "* Feature engineering is the process of creating new features. Adding new features is\n",
    "important for improving the performance of a model. While adding new features, we\n",
    "always need to use the validation set to make sure that our model indeed improves.\n",
    "Without constant monitoring, we risk getting mediocre or very bad performance.\n",
    "\n",
    "\n",
    "* Sometimes, we face numerical instability issues that we can solve with regularization.\n",
    "Having a good way to validate models is crucial for spotting a problem before it’s too\n",
    "late.\n",
    "\n",
    "\n",
    "* After the model is trained and validated, we can use it to make predictions, such as\n",
    "applying it to cars with unknown prices to estimate how much they may cost.\n",
    "In chapter 3, we will learn how to do classification with machine learning, using logistic\n",
    "regression to predict customer churn.\n",
    "\n",
    "\n",
    "## 2.7 Answers to exercises\n",
    "\n",
    "\n",
    "* Exercise 2.1 B) Values spread far from the head\n",
    "* Exercise 2.2 A) xi is a feature vector and yi is the logarithm of the price\n",
    "* Exercise 2.3 B) A vector y with price predictions\n",
    "* Exercise 2.4 A), B) and C) All three answers are correct "
   ]
  },
  {
   "cell_type": "code",
   "execution_count": 71,
   "id": "inner-canvas",
   "metadata": {},
   "outputs": [
    {
     "data": {
      "text/html": [
       "<div>\n",
       "<style scoped>\n",
       "    .dataframe tbody tr th:only-of-type {\n",
       "        vertical-align: middle;\n",
       "    }\n",
       "\n",
       "    .dataframe tbody tr th {\n",
       "        vertical-align: top;\n",
       "    }\n",
       "\n",
       "    .dataframe thead th {\n",
       "        text-align: right;\n",
       "    }\n",
       "</style>\n",
       "<table border=\"1\" class=\"dataframe\">\n",
       "  <thead>\n",
       "    <tr style=\"text-align: right;\">\n",
       "      <th></th>\n",
       "      <th>make</th>\n",
       "      <th>model</th>\n",
       "      <th>year</th>\n",
       "      <th>engine_fuel_type</th>\n",
       "      <th>engine_hp</th>\n",
       "      <th>engine_cylinders</th>\n",
       "      <th>transmission_type</th>\n",
       "      <th>driven_wheels</th>\n",
       "      <th>number_of_doors</th>\n",
       "      <th>market_category</th>\n",
       "      <th>vehicle_size</th>\n",
       "      <th>vehicle_style</th>\n",
       "      <th>highway_mpg</th>\n",
       "      <th>city_mpg</th>\n",
       "      <th>popularity</th>\n",
       "      <th>msrp</th>\n",
       "    </tr>\n",
       "  </thead>\n",
       "  <tbody>\n",
       "    <tr>\n",
       "      <th>4192</th>\n",
       "      <td>ford</td>\n",
       "      <td>escape</td>\n",
       "      <td>2015</td>\n",
       "      <td>premium_unleaded_(recommended)</td>\n",
       "      <td>178.0</td>\n",
       "      <td>4.0</td>\n",
       "      <td>automatic</td>\n",
       "      <td>front_wheel_drive</td>\n",
       "      <td>4.0</td>\n",
       "      <td>crossover</td>\n",
       "      <td>compact</td>\n",
       "      <td>4dr_suv</td>\n",
       "      <td>32</td>\n",
       "      <td>23</td>\n",
       "      <td>5657</td>\n",
       "      <td>29735</td>\n",
       "    </tr>\n",
       "    <tr>\n",
       "      <th>4193</th>\n",
       "      <td>ford</td>\n",
       "      <td>escape</td>\n",
       "      <td>2015</td>\n",
       "      <td>premium_unleaded_(recommended)</td>\n",
       "      <td>178.0</td>\n",
       "      <td>4.0</td>\n",
       "      <td>automatic</td>\n",
       "      <td>front_wheel_drive</td>\n",
       "      <td>4.0</td>\n",
       "      <td>crossover</td>\n",
       "      <td>compact</td>\n",
       "      <td>4dr_suv</td>\n",
       "      <td>32</td>\n",
       "      <td>23</td>\n",
       "      <td>5657</td>\n",
       "      <td>25650</td>\n",
       "    </tr>\n",
       "    <tr>\n",
       "      <th>4194</th>\n",
       "      <td>ford</td>\n",
       "      <td>escape</td>\n",
       "      <td>2015</td>\n",
       "      <td>premium_unleaded_(recommended)</td>\n",
       "      <td>178.0</td>\n",
       "      <td>4.0</td>\n",
       "      <td>automatic</td>\n",
       "      <td>all_wheel_drive</td>\n",
       "      <td>4.0</td>\n",
       "      <td>crossover</td>\n",
       "      <td>compact</td>\n",
       "      <td>4dr_suv</td>\n",
       "      <td>30</td>\n",
       "      <td>22</td>\n",
       "      <td>5657</td>\n",
       "      <td>27400</td>\n",
       "    </tr>\n",
       "    <tr>\n",
       "      <th>4195</th>\n",
       "      <td>ford</td>\n",
       "      <td>escape</td>\n",
       "      <td>2015</td>\n",
       "      <td>regular_unleaded</td>\n",
       "      <td>168.0</td>\n",
       "      <td>4.0</td>\n",
       "      <td>automatic</td>\n",
       "      <td>front_wheel_drive</td>\n",
       "      <td>4.0</td>\n",
       "      <td>crossover</td>\n",
       "      <td>compact</td>\n",
       "      <td>4dr_suv</td>\n",
       "      <td>31</td>\n",
       "      <td>22</td>\n",
       "      <td>5657</td>\n",
       "      <td>23450</td>\n",
       "    </tr>\n",
       "    <tr>\n",
       "      <th>4196</th>\n",
       "      <td>ford</td>\n",
       "      <td>escape</td>\n",
       "      <td>2015</td>\n",
       "      <td>premium_unleaded_(recommended)</td>\n",
       "      <td>178.0</td>\n",
       "      <td>4.0</td>\n",
       "      <td>automatic</td>\n",
       "      <td>all_wheel_drive</td>\n",
       "      <td>4.0</td>\n",
       "      <td>crossover</td>\n",
       "      <td>compact</td>\n",
       "      <td>4dr_suv</td>\n",
       "      <td>30</td>\n",
       "      <td>22</td>\n",
       "      <td>5657</td>\n",
       "      <td>31485</td>\n",
       "    </tr>\n",
       "  </tbody>\n",
       "</table>\n",
       "</div>"
      ],
      "text/plain": [
       "      make   model  year                engine_fuel_type  engine_hp  \\\n",
       "4192  ford  escape  2015  premium_unleaded_(recommended)      178.0   \n",
       "4193  ford  escape  2015  premium_unleaded_(recommended)      178.0   \n",
       "4194  ford  escape  2015  premium_unleaded_(recommended)      178.0   \n",
       "4195  ford  escape  2015                regular_unleaded      168.0   \n",
       "4196  ford  escape  2015  premium_unleaded_(recommended)      178.0   \n",
       "\n",
       "      engine_cylinders transmission_type      driven_wheels  number_of_doors  \\\n",
       "4192               4.0         automatic  front_wheel_drive              4.0   \n",
       "4193               4.0         automatic  front_wheel_drive              4.0   \n",
       "4194               4.0         automatic    all_wheel_drive              4.0   \n",
       "4195               4.0         automatic  front_wheel_drive              4.0   \n",
       "4196               4.0         automatic    all_wheel_drive              4.0   \n",
       "\n",
       "     market_category vehicle_size vehicle_style  highway_mpg  city_mpg  \\\n",
       "4192       crossover      compact       4dr_suv           32        23   \n",
       "4193       crossover      compact       4dr_suv           32        23   \n",
       "4194       crossover      compact       4dr_suv           30        22   \n",
       "4195       crossover      compact       4dr_suv           31        22   \n",
       "4196       crossover      compact       4dr_suv           30        22   \n",
       "\n",
       "      popularity   msrp  \n",
       "4192        5657  29735  \n",
       "4193        5657  25650  \n",
       "4194        5657  27400  \n",
       "4195        5657  23450  \n",
       "4196        5657  31485  "
      ]
     },
     "execution_count": 71,
     "metadata": {},
     "output_type": "execute_result"
    }
   ],
   "source": [
    "x = df[df['make'] =='ford']\n",
    "x = x[x['model'] == 'escape']\n",
    "x = x[x['year'] == 2015]\n",
    "x"
   ]
  },
  {
   "cell_type": "code",
   "execution_count": null,
   "id": "committed-worse",
   "metadata": {},
   "outputs": [],
   "source": []
  }
 ],
 "metadata": {
  "kernelspec": {
   "display_name": "Python [conda env:pyvizenv]",
   "language": "python",
   "name": "conda-env-pyvizenv-py"
  },
  "language_info": {
   "codemirror_mode": {
    "name": "ipython",
    "version": 3
   },
   "file_extension": ".py",
   "mimetype": "text/x-python",
   "name": "python",
   "nbconvert_exporter": "python",
   "pygments_lexer": "ipython3",
   "version": "3.7.9"
  }
 },
 "nbformat": 4,
 "nbformat_minor": 5
}
